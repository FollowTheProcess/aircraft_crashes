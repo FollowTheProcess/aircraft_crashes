{
 "cells": [
  {
   "cell_type": "markdown",
   "metadata": {},
   "source": [
    "# Notebook 02: EDA\n",
    "\n",
    "In this notebook I'm going to dive a bit deeper into the (now cleaned) dataset"
   ]
  },
  {
   "cell_type": "code",
   "execution_count": 1,
   "metadata": {},
   "outputs": [
    {
     "data": {
      "text/plain": "DataTransformerRegistry.enable('data_server')"
     },
     "execution_count": 1,
     "metadata": {},
     "output_type": "execute_result"
    }
   ],
   "source": [
    "import pandas as pd\n",
    "import numpy as np\n",
    "from pandas_profiling import ProfileReport\n",
    "import altair as alt\n",
    "import altair_data_server\n",
    "\n",
    "from src.data.load_data import Data\n",
    "\n",
    "alt.data_transformers.enable(\"data_server\")\n"
   ]
  },
  {
   "cell_type": "code",
   "execution_count": 2,
   "metadata": {},
   "outputs": [],
   "source": [
    "df = Data().load(clean=True)"
   ]
  },
  {
   "cell_type": "code",
   "execution_count": 3,
   "metadata": {},
   "outputs": [
    {
     "name": "stdout",
     "output_type": "stream",
     "text": [
      "<class 'pandas.core.frame.DataFrame'>\n",
      "Int64Index: 4814 entries, 0 to 5267\n",
      "Data columns (total 14 columns):\n",
      " #   Column        Non-Null Count  Dtype         \n",
      "---  ------        --------------  -----         \n",
      " 0   date          4814 non-null   datetime64[ns]\n",
      " 1   year          4814 non-null   int64         \n",
      " 2   month         4814 non-null   string        \n",
      " 3   location      4814 non-null   string        \n",
      " 4   country       4814 non-null   category      \n",
      " 5   sector        4814 non-null   category      \n",
      " 6   operator      4814 non-null   string        \n",
      " 7   manufacturer  4814 non-null   category      \n",
      " 8   type          4814 non-null   string        \n",
      " 9   aboard        4814 non-null   int64         \n",
      " 10  fatalities    4814 non-null   int64         \n",
      " 11  fatality_pct  4812 non-null   float64       \n",
      " 12  ground        4814 non-null   int64         \n",
      " 13  summary       4814 non-null   string        \n",
      "dtypes: category(3), datetime64[ns](1), float64(1), int64(4), string(5)\n",
      "memory usage: 2.9 MB\n"
     ]
    }
   ],
   "source": [
    "df.info(memory_usage='deep')"
   ]
  },
  {
   "cell_type": "code",
   "execution_count": 4,
   "metadata": {},
   "outputs": [
    {
     "data": {
      "text/html": "<div>\n<style scoped>\n    .dataframe tbody tr th:only-of-type {\n        vertical-align: middle;\n    }\n\n    .dataframe tbody tr th {\n        vertical-align: top;\n    }\n\n    .dataframe thead th {\n        text-align: right;\n    }\n</style>\n<table border=\"1\" class=\"dataframe\">\n  <thead>\n    <tr style=\"text-align: right;\">\n      <th></th>\n      <th>date</th>\n      <th>year</th>\n      <th>month</th>\n      <th>location</th>\n      <th>country</th>\n      <th>sector</th>\n      <th>operator</th>\n      <th>manufacturer</th>\n      <th>type</th>\n      <th>aboard</th>\n      <th>fatalities</th>\n      <th>fatality_pct</th>\n      <th>ground</th>\n      <th>summary</th>\n    </tr>\n  </thead>\n  <tbody>\n    <tr>\n      <th>1280</th>\n      <td>1953-09-01</td>\n      <td>1953</td>\n      <td>September</td>\n      <td>Vail, Washington</td>\n      <td>United States</td>\n      <td>Civilian</td>\n      <td>Regina Cargo Airlines</td>\n      <td>Douglas</td>\n      <td>Douglas DC-3</td>\n      <td>21</td>\n      <td>21</td>\n      <td>1.000000</td>\n      <td>0</td>\n      <td>Crashed 26 nm short of McChord AFB. The pilot'...</td>\n    </tr>\n    <tr>\n      <th>3978</th>\n      <td>1991-02-17</td>\n      <td>1991</td>\n      <td>February</td>\n      <td>Cleveland, Ohio</td>\n      <td>United States</td>\n      <td>Civilian</td>\n      <td>Ryan International Airlines</td>\n      <td>McDonell Douglas</td>\n      <td>McDonnell Douglas DC-9-15RC</td>\n      <td>2</td>\n      <td>2</td>\n      <td>1.000000</td>\n      <td>0</td>\n      <td>The cargo plane stalled during takeoff cart wh...</td>\n    </tr>\n    <tr>\n      <th>1702</th>\n      <td>1960-12-17</td>\n      <td>1960</td>\n      <td>December</td>\n      <td>Munich, West Germany</td>\n      <td>West Germany</td>\n      <td>Military</td>\n      <td>Military - U.S. Air Force</td>\n      <td>Convair</td>\n      <td>Convair C-131D (CV-340-79)</td>\n      <td>20</td>\n      <td>20</td>\n      <td>1.000000</td>\n      <td>31</td>\n      <td>The aircraft lost an engine on takeoff from Mu...</td>\n    </tr>\n    <tr>\n      <th>1521</th>\n      <td>1958-02-06</td>\n      <td>1958</td>\n      <td>February</td>\n      <td>Munich, Germany</td>\n      <td>Germany</td>\n      <td>Civilian</td>\n      <td>British European Airways</td>\n      <td>Airspeed</td>\n      <td>Airspeed Ambassador A5-57</td>\n      <td>44</td>\n      <td>23</td>\n      <td>0.522727</td>\n      <td>0</td>\n      <td>The aircraft crashed during takeoff in a snows...</td>\n    </tr>\n    <tr>\n      <th>1018</th>\n      <td>1949-08-15</td>\n      <td>1949</td>\n      <td>August</td>\n      <td>Off Lurga Point, Ireland</td>\n      <td>Ireland</td>\n      <td>Civilian</td>\n      <td>Transocean Air Lines</td>\n      <td>Douglas</td>\n      <td>Douglas DC-3 (C-54A-DO)</td>\n      <td>58</td>\n      <td>8</td>\n      <td>0.137931</td>\n      <td>0</td>\n      <td>Fuel exhaustion forced the plane to ditch in t...</td>\n    </tr>\n    <tr>\n      <th>4321</th>\n      <td>1995-01-30</td>\n      <td>1995</td>\n      <td>January</td>\n      <td>Kuei Shan Hsiang, Taiwan</td>\n      <td>Taiwan</td>\n      <td>Civilian</td>\n      <td>Transasia Airways</td>\n      <td>Aerospatiale</td>\n      <td>Aerospatiale ATR-72</td>\n      <td>4</td>\n      <td>4</td>\n      <td>1.000000</td>\n      <td>0</td>\n      <td>Crashed while en route on a positioning flight.</td>\n    </tr>\n    <tr>\n      <th>1170</th>\n      <td>1951-12-30</td>\n      <td>1951</td>\n      <td>December</td>\n      <td>Near Phoenix, Arizona</td>\n      <td>United States</td>\n      <td>Military</td>\n      <td>Military - U.S. Air Force</td>\n      <td>Douglas</td>\n      <td>Douglas C-47D</td>\n      <td>28</td>\n      <td>28</td>\n      <td>1.000000</td>\n      <td>0</td>\n      <td>Crashed into a mountainside at an altitude of ...</td>\n    </tr>\n    <tr>\n      <th>3934</th>\n      <td>1990-03-27</td>\n      <td>1990</td>\n      <td>March</td>\n      <td>Near Kuito, Angola</td>\n      <td>Angola</td>\n      <td>Military</td>\n      <td>Military - Angolan Air Force</td>\n      <td>CASA</td>\n      <td>CASA 212 Aviocar 300</td>\n      <td>25</td>\n      <td>25</td>\n      <td>1.000000</td>\n      <td>0</td>\n      <td>Shot down with a missile fired by UNITA rebels.</td>\n    </tr>\n    <tr>\n      <th>1282</th>\n      <td>1953-09-14</td>\n      <td>1953</td>\n      <td>September</td>\n      <td>Chablekal, Mexico</td>\n      <td>Mexico</td>\n      <td>Civilian</td>\n      <td>Transportes Aéreos Mexicanos</td>\n      <td>Douglas</td>\n      <td>Douglas C-47A</td>\n      <td>2</td>\n      <td>1</td>\n      <td>0.500000</td>\n      <td>0</td>\n      <td>The cargo plane struck a tower in fog while at...</td>\n    </tr>\n    <tr>\n      <th>5202</th>\n      <td>2008-05-23</td>\n      <td>2008</td>\n      <td>May</td>\n      <td>Billings, Montana</td>\n      <td>United States</td>\n      <td>Civilian</td>\n      <td>Alpine Aviation</td>\n      <td>Beechcraft</td>\n      <td>Beechcraft 1900C</td>\n      <td>1</td>\n      <td>1</td>\n      <td>1.000000</td>\n      <td>0</td>\n      <td>After taking off and  being told to turn left,...</td>\n    </tr>\n  </tbody>\n</table>\n</div>",
      "text/plain": "           date  year      month                  location        country  \\\n1280 1953-09-01  1953  September          Vail, Washington  United States   \n3978 1991-02-17  1991   February           Cleveland, Ohio  United States   \n1702 1960-12-17  1960   December      Munich, West Germany   West Germany   \n1521 1958-02-06  1958   February           Munich, Germany        Germany   \n1018 1949-08-15  1949     August  Off Lurga Point, Ireland        Ireland   \n4321 1995-01-30  1995    January  Kuei Shan Hsiang, Taiwan         Taiwan   \n1170 1951-12-30  1951   December     Near Phoenix, Arizona  United States   \n3934 1990-03-27  1990      March        Near Kuito, Angola         Angola   \n1282 1953-09-14  1953  September         Chablekal, Mexico         Mexico   \n5202 2008-05-23  2008        May         Billings, Montana  United States   \n\n        sector                      operator      manufacturer  \\\n1280  Civilian         Regina Cargo Airlines           Douglas   \n3978  Civilian   Ryan International Airlines  McDonell Douglas   \n1702  Military     Military - U.S. Air Force           Convair   \n1521  Civilian      British European Airways          Airspeed   \n1018  Civilian          Transocean Air Lines           Douglas   \n4321  Civilian             Transasia Airways      Aerospatiale   \n1170  Military     Military - U.S. Air Force           Douglas   \n3934  Military  Military - Angolan Air Force              CASA   \n1282  Civilian  Transportes Aéreos Mexicanos           Douglas   \n5202  Civilian               Alpine Aviation        Beechcraft   \n\n                             type  aboard  fatalities  fatality_pct  ground  \\\n1280                 Douglas DC-3      21          21      1.000000       0   \n3978  McDonnell Douglas DC-9-15RC       2           2      1.000000       0   \n1702   Convair C-131D (CV-340-79)      20          20      1.000000      31   \n1521    Airspeed Ambassador A5-57      44          23      0.522727       0   \n1018      Douglas DC-3 (C-54A-DO)      58           8      0.137931       0   \n4321          Aerospatiale ATR-72       4           4      1.000000       0   \n1170                Douglas C-47D      28          28      1.000000       0   \n3934         CASA 212 Aviocar 300      25          25      1.000000       0   \n1282                Douglas C-47A       2           1      0.500000       0   \n5202             Beechcraft 1900C       1           1      1.000000       0   \n\n                                                summary  \n1280  Crashed 26 nm short of McChord AFB. The pilot'...  \n3978  The cargo plane stalled during takeoff cart wh...  \n1702  The aircraft lost an engine on takeoff from Mu...  \n1521  The aircraft crashed during takeoff in a snows...  \n1018  Fuel exhaustion forced the plane to ditch in t...  \n4321    Crashed while en route on a positioning flight.  \n1170  Crashed into a mountainside at an altitude of ...  \n3934    Shot down with a missile fired by UNITA rebels.  \n1282  The cargo plane struck a tower in fog while at...  \n5202  After taking off and  being told to turn left,...  "
     },
     "execution_count": 4,
     "metadata": {},
     "output_type": "execute_result"
    }
   ],
   "source": [
    "df.sample(10)"
   ]
  },
  {
   "cell_type": "markdown",
   "metadata": {},
   "source": [
    "## Data Cleaning\n",
    "\n",
    "So you'll see we now have a cleaned up version of the raw data when I pass `clean = True` to the `load` method of the `Data` class. If you're interested, this is all implemented in `src/data/load_data.py`.\n",
    "\n",
    "Basic summary of the cleaning steps:\n",
    "\n",
    "* Dropped a few columns:\n",
    "    * `Flight #` - I didn't really see any gainful insights coming from this one, essentially just random numbers generated by the airline\n",
    "    * `Registration` - Similar thing. This is the aircraft's registration number e.g. G-EGHG.\n",
    "    * `cn/In` - Same as registration, this refers to the aircraft's airframe ID or model number.\n",
    "    * `Route` - Initially I wanted to keep this to see if any one route is particularly hazardous etc. but on some scratchpad analysis it seemed there were just too many distinct values to really learn anything.\n",
    "    * `Time` - This is the one I'm most sad about losing. I strongly suspect that accidents at night time are more common than during the day. But there were lots of missing values and I couldn't get it to play nicely in my cleaning pipeline with pandas datetime parsing. It ended up parsing the date correctly but then because the time was `NaN` the whole thing would get cast to an object. If anyone knows a good way of handling this let me know!\n",
    "\n",
    "* Did some basic formatting and tidying i.e. stripping any whitespace from text, dropped any remaining `NaNs`\n",
    "\n",
    "* Extracted some features like `year`, `month`, `country`, whether it was a military or commercial flight etc.\n",
    "\n",
    "* Grouped some countries for example, the country extractor would return names of US states, so I wrote a method to group them under `United States`. Similarly grouped `USSR` and `Russia` as well as grouping lots of misspelled versions of `Atlantic Ocean` and `Pacific Ocean`.\n",
    "\n",
    "* And finally, reordered the columns to satisfy my OCD!"
   ]
  },
  {
   "cell_type": "markdown",
   "metadata": {},
   "source": [
    "## EDA\n",
    "\n",
    "Let's get into it!\n",
    "\n",
    "I'm going to start with my favourite auto-data-magic-summariser... pandas-profiling. I usually do this at the start of an EDA and keep it around to refer back to.\n",
    "\n",
    "I also basically exclusively use [Altair](https://altair-viz.github.io) for visualisations like this. I love its declarative grammar, you just initialise a chart and pipe everything into it and I've yet to run into something I couldn't do."
   ]
  },
  {
   "cell_type": "code",
   "execution_count": 5,
   "metadata": {},
   "outputs": [],
   "source": [
    "# ProfileReport(df)"
   ]
  },
  {
   "cell_type": "markdown",
   "metadata": {},
   "source": [
    "Let's start by finding out the top 10 most dangerous countries to fly in..."
   ]
  },
  {
   "cell_type": "code",
   "execution_count": 6,
   "metadata": {},
   "outputs": [
    {
     "data": {
      "text/html": "\n<div id=\"altair-viz-0d88b493557045119056d8581455bde2\"></div>\n<script type=\"text/javascript\">\n  (function(spec, embedOpt){\n    let outputDiv = document.currentScript.previousElementSibling;\n    if (outputDiv.id !== \"altair-viz-0d88b493557045119056d8581455bde2\") {\n      outputDiv = document.getElementById(\"altair-viz-0d88b493557045119056d8581455bde2\");\n    }\n    const paths = {\n      \"vega\": \"https://cdn.jsdelivr.net/npm//vega@5?noext\",\n      \"vega-lib\": \"https://cdn.jsdelivr.net/npm//vega-lib?noext\",\n      \"vega-lite\": \"https://cdn.jsdelivr.net/npm//vega-lite@4.8.1?noext\",\n      \"vega-embed\": \"https://cdn.jsdelivr.net/npm//vega-embed@6?noext\",\n    };\n\n    function loadScript(lib) {\n      return new Promise(function(resolve, reject) {\n        var s = document.createElement('script');\n        s.src = paths[lib];\n        s.async = true;\n        s.onload = () => resolve(paths[lib]);\n        s.onerror = () => reject(`Error loading script: ${paths[lib]}`);\n        document.getElementsByTagName(\"head\")[0].appendChild(s);\n      });\n    }\n\n    function showError(err) {\n      outputDiv.innerHTML = `<div class=\"error\" style=\"color:red;\">${err}</div>`;\n      throw err;\n    }\n\n    function displayChart(vegaEmbed) {\n      vegaEmbed(outputDiv, spec, embedOpt)\n        .catch(err => showError(`Javascript Error: ${err.message}<br>This usually means there's a typo in your chart specification. See the javascript console for the full traceback.`));\n    }\n\n    if(typeof define === \"function\" && define.amd) {\n      requirejs.config({paths});\n      require([\"vega-embed\"], displayChart, err => showError(`Error loading script: ${err.message}`));\n    } else if (typeof vegaEmbed === \"function\") {\n      displayChart(vegaEmbed);\n    } else {\n      loadScript(\"vega\")\n        .then(() => loadScript(\"vega-lite\"))\n        .then(() => loadScript(\"vega-embed\"))\n        .catch(showError)\n        .then(() => displayChart(vegaEmbed));\n    }\n  })({\"config\": {\"view\": {\"continuousWidth\": 400, \"continuousHeight\": 300}, \"axisX\": {\"labelAngle\": -40}}, \"data\": {\"url\": \"http://localhost:18740/4224548cfde0d1fff98d1a8d37e18a64.json\"}, \"mark\": \"bar\", \"encoding\": {\"tooltip\": [{\"type\": \"nominal\", \"field\": \"country\"}, {\"type\": \"quantitative\", \"field\": \"fatalities\"}], \"x\": {\"type\": \"nominal\", \"field\": \"country\", \"sort\": \"-y\", \"title\": \"Country\"}, \"y\": {\"type\": \"quantitative\", \"field\": \"fatalities\", \"title\": \"Total Fatalities\"}}, \"height\": 500, \"title\": \"Total Fatalities by Country (Top 10)\", \"width\": 750, \"$schema\": \"https://vega.github.io/schema/vega-lite/v4.8.1.json\"}, {\"mode\": \"vega-lite\"});\n</script>",
      "text/plain": "alt.Chart(...)"
     },
     "execution_count": 6,
     "metadata": {},
     "output_type": "execute_result"
    }
   ],
   "source": [
    "(alt.Chart(df.groupby(by = \"country\")[[\"fatalities\"]].sum().nlargest(10, \"fatalities\").reset_index())\n",
    ".mark_bar()\n",
    ".encode(\n",
    "    x = alt.X(\"country:N\", title = \"Country\", sort = \"-y\",),\n",
    "    y = alt.Y(\"fatalities:Q\", title = \"Total Fatalities\"),\n",
    "    tooltip = [\"country\", \"fatalities\"],\n",
    ").properties(\n",
    "    title = \"Total Fatalities by Country (Top 10)\",\n",
    "    height = 500,\n",
    "    width = 750\n",
    ").configure_axisX(\n",
    "    labelAngle = -40\n",
    "))"
   ]
  },
  {
   "cell_type": "markdown",
   "metadata": {},
   "source": [
    "Wow, the US does not come off well here. This could be real, however it could also be anything like:\n",
    "\n",
    "* The data was collected from a source in the US enabling more easy data collection for domestic accidents\n",
    "* The population of the US regularly travelling by air is likely to be high compared to the other countries. What we should really look at if we want to determine liklihood of crash fatality is the fatalities divided by the flying population.\n",
    "\n",
    "Let's instead look at the ratio of fatalities to total number of accidents.\n",
    "\n",
    "A quick look at the value counts reveals that the US has far more accidents on record. Again, this could be a real observation or an artifact discussed above."
   ]
  },
  {
   "cell_type": "code",
   "execution_count": 7,
   "metadata": {},
   "outputs": [
    {
     "data": {
      "text/plain": "United States                          1334\nRussia                                  216\nBrazil                                  173\nColombia                                140\nCanada                                  138\n                                       ... \nMidway Island Naval Air Station           1\nMilford Sound                             1\nMinnisota                                 1\nMoldova                                   1\noff the Philippine island of Elalat       1\nName: country, Length: 412, dtype: int64"
     },
     "execution_count": 7,
     "metadata": {},
     "output_type": "execute_result"
    }
   ],
   "source": [
    "df['country'].value_counts()"
   ]
  },
  {
   "cell_type": "code",
   "execution_count": 8,
   "metadata": {},
   "outputs": [],
   "source": [
    "top_10 = set([\"United States\", \"Russia\", \"Brazil\", \"Colombia\", \"France\", \"India\", \"Japan\", \"Indonesia\", \"China\", \"Canada\"])\n",
    "top_10_df = df[df[\"country\"].isin(top_10)]"
   ]
  },
  {
   "cell_type": "code",
   "execution_count": 9,
   "metadata": {},
   "outputs": [
    {
     "data": {
      "text/html": "<div>\n<style scoped>\n    .dataframe tbody tr th:only-of-type {\n        vertical-align: middle;\n    }\n\n    .dataframe tbody tr th {\n        vertical-align: top;\n    }\n\n    .dataframe thead th {\n        text-align: right;\n    }\n</style>\n<table border=\"1\" class=\"dataframe\">\n  <thead>\n    <tr style=\"text-align: right;\">\n      <th></th>\n      <th>year</th>\n      <th>aboard</th>\n      <th>fatalities</th>\n      <th>fatality_pct</th>\n      <th>ground</th>\n    </tr>\n    <tr>\n      <th>country</th>\n      <th></th>\n      <th></th>\n      <th></th>\n      <th></th>\n      <th></th>\n    </tr>\n  </thead>\n  <tbody>\n    <tr>\n      <th>Colombia</th>\n      <td>1978.628571</td>\n      <td>22.550000</td>\n      <td>20.328571</td>\n      <td>0.873064</td>\n      <td>0.292857</td>\n    </tr>\n    <tr>\n      <th>India</th>\n      <td>1967.054348</td>\n      <td>34.423913</td>\n      <td>27.695652</td>\n      <td>0.867188</td>\n      <td>0.869565</td>\n    </tr>\n    <tr>\n      <th>Russia</th>\n      <td>1981.824074</td>\n      <td>50.416667</td>\n      <td>42.004630</td>\n      <td>0.867038</td>\n      <td>0.268519</td>\n    </tr>\n    <tr>\n      <th>Japan</th>\n      <td>1968.463415</td>\n      <td>74.390244</td>\n      <td>48.902439</td>\n      <td>0.866045</td>\n      <td>0.048780</td>\n    </tr>\n    <tr>\n      <th>France</th>\n      <td>1958.907407</td>\n      <td>29.925926</td>\n      <td>24.277778</td>\n      <td>0.848833</td>\n      <td>0.259259</td>\n    </tr>\n    <tr>\n      <th>United States</th>\n      <td>1971.595202</td>\n      <td>18.888306</td>\n      <td>12.025487</td>\n      <td>0.835286</td>\n      <td>4.334333</td>\n    </tr>\n    <tr>\n      <th>Brazil</th>\n      <td>1972.942197</td>\n      <td>25.011561</td>\n      <td>17.826590</td>\n      <td>0.792493</td>\n      <td>0.410405</td>\n    </tr>\n    <tr>\n      <th>Canada</th>\n      <td>1976.971014</td>\n      <td>19.775362</td>\n      <td>13.224638</td>\n      <td>0.783645</td>\n      <td>0.108696</td>\n    </tr>\n    <tr>\n      <th>China</th>\n      <td>1965.044118</td>\n      <td>41.191176</td>\n      <td>27.838235</td>\n      <td>0.749167</td>\n      <td>0.661765</td>\n    </tr>\n    <tr>\n      <th>Indonesia</th>\n      <td>1989.337500</td>\n      <td>37.962500</td>\n      <td>24.862500</td>\n      <td>0.735071</td>\n      <td>0.625000</td>\n    </tr>\n  </tbody>\n</table>\n</div>",
      "text/plain": "                      year     aboard  fatalities  fatality_pct    ground\ncountry                                                                  \nColombia       1978.628571  22.550000   20.328571      0.873064  0.292857\nIndia          1967.054348  34.423913   27.695652      0.867188  0.869565\nRussia         1981.824074  50.416667   42.004630      0.867038  0.268519\nJapan          1968.463415  74.390244   48.902439      0.866045  0.048780\nFrance         1958.907407  29.925926   24.277778      0.848833  0.259259\nUnited States  1971.595202  18.888306   12.025487      0.835286  4.334333\nBrazil         1972.942197  25.011561   17.826590      0.792493  0.410405\nCanada         1976.971014  19.775362   13.224638      0.783645  0.108696\nChina          1965.044118  41.191176   27.838235      0.749167  0.661765\nIndonesia      1989.337500  37.962500   24.862500      0.735071  0.625000"
     },
     "execution_count": 9,
     "metadata": {},
     "output_type": "execute_result"
    }
   ],
   "source": [
    "top_10_df.groupby(\"country\").mean().sort_values(by=\"fatality_pct\", ascending = False).dropna()"
   ]
  },
  {
   "cell_type": "code",
   "execution_count": 19,
   "metadata": {},
   "outputs": [
    {
     "data": {
      "text/html": "\n<div id=\"altair-viz-0b572f14aa774dffa3abcb785d74af44\"></div>\n<script type=\"text/javascript\">\n  (function(spec, embedOpt){\n    let outputDiv = document.currentScript.previousElementSibling;\n    if (outputDiv.id !== \"altair-viz-0b572f14aa774dffa3abcb785d74af44\") {\n      outputDiv = document.getElementById(\"altair-viz-0b572f14aa774dffa3abcb785d74af44\");\n    }\n    const paths = {\n      \"vega\": \"https://cdn.jsdelivr.net/npm//vega@5?noext\",\n      \"vega-lib\": \"https://cdn.jsdelivr.net/npm//vega-lib?noext\",\n      \"vega-lite\": \"https://cdn.jsdelivr.net/npm//vega-lite@4.8.1?noext\",\n      \"vega-embed\": \"https://cdn.jsdelivr.net/npm//vega-embed@6?noext\",\n    };\n\n    function loadScript(lib) {\n      return new Promise(function(resolve, reject) {\n        var s = document.createElement('script');\n        s.src = paths[lib];\n        s.async = true;\n        s.onload = () => resolve(paths[lib]);\n        s.onerror = () => reject(`Error loading script: ${paths[lib]}`);\n        document.getElementsByTagName(\"head\")[0].appendChild(s);\n      });\n    }\n\n    function showError(err) {\n      outputDiv.innerHTML = `<div class=\"error\" style=\"color:red;\">${err}</div>`;\n      throw err;\n    }\n\n    function displayChart(vegaEmbed) {\n      vegaEmbed(outputDiv, spec, embedOpt)\n        .catch(err => showError(`Javascript Error: ${err.message}<br>This usually means there's a typo in your chart specification. See the javascript console for the full traceback.`));\n    }\n\n    if(typeof define === \"function\" && define.amd) {\n      requirejs.config({paths});\n      require([\"vega-embed\"], displayChart, err => showError(`Error loading script: ${err.message}`));\n    } else if (typeof vegaEmbed === \"function\") {\n      displayChart(vegaEmbed);\n    } else {\n      loadScript(\"vega\")\n        .then(() => loadScript(\"vega-lite\"))\n        .then(() => loadScript(\"vega-embed\"))\n        .catch(showError)\n        .then(() => displayChart(vegaEmbed));\n    }\n  })({\"config\": {\"view\": {\"continuousWidth\": 400, \"continuousHeight\": 300}, \"axisX\": {\"labelAngle\": -40}}, \"data\": {\"url\": \"http://localhost:18740/16bac85bbe820b175a1baf2f2df19fd6.json\"}, \"mark\": \"bar\", \"encoding\": {\"color\": {\"type\": \"quantitative\", \"field\": \"fatality_pct\", \"scale\": {\"scheme\": \"blues\"}, \"title\": null}, \"x\": {\"type\": \"nominal\", \"field\": \"country\", \"sort\": \"-y\", \"title\": \"Country\"}, \"y\": {\"type\": \"quantitative\", \"axis\": {\"format\": \"%\"}, \"field\": \"fatality_pct\", \"title\": \"Crash Fatality Rate\"}}, \"height\": 500, \"title\": \"Mean Crash Fatality Rate by Country\", \"width\": 750, \"$schema\": \"https://vega.github.io/schema/vega-lite/v4.8.1.json\"}, {\"mode\": \"vega-lite\"});\n</script>",
      "text/plain": "alt.Chart(...)"
     },
     "execution_count": 19,
     "metadata": {},
     "output_type": "execute_result"
    }
   ],
   "source": [
    "alt.Chart(top_10_df.groupby(\"country\").mean().sort_values(by=\"fatality_pct\", ascending = False).dropna().reset_index()).mark_bar().encode(\n",
    "    x = alt.X(\"country:N\", title = \"Country\", sort = \"-y\"),\n",
    "    y = alt.Y(\"fatality_pct:Q\", title = \"Crash Fatality Rate\", axis = alt.Axis(format = \"%\")),\n",
    "    color = alt.Color(\"fatality_pct:Q\", title = None, scale = alt.Scale(scheme = \"blues\"))\n",
    ").properties(\n",
    "    title = \"Mean Crash Fatality Rate by Country\",\n",
    "    height = 500,\n",
    "    width = 750\n",
    ").configure_axisX(\n",
    "    labelAngle = -40\n",
    ")"
   ]
  },
  {
   "cell_type": "code",
   "execution_count": 11,
   "metadata": {},
   "outputs": [
    {
     "data": {
      "text/html": "\n<div id=\"altair-viz-23a57636411049c8bbf8923b57c254a0\"></div>\n<script type=\"text/javascript\">\n  (function(spec, embedOpt){\n    let outputDiv = document.currentScript.previousElementSibling;\n    if (outputDiv.id !== \"altair-viz-23a57636411049c8bbf8923b57c254a0\") {\n      outputDiv = document.getElementById(\"altair-viz-23a57636411049c8bbf8923b57c254a0\");\n    }\n    const paths = {\n      \"vega\": \"https://cdn.jsdelivr.net/npm//vega@5?noext\",\n      \"vega-lib\": \"https://cdn.jsdelivr.net/npm//vega-lib?noext\",\n      \"vega-lite\": \"https://cdn.jsdelivr.net/npm//vega-lite@4.8.1?noext\",\n      \"vega-embed\": \"https://cdn.jsdelivr.net/npm//vega-embed@6?noext\",\n    };\n\n    function loadScript(lib) {\n      return new Promise(function(resolve, reject) {\n        var s = document.createElement('script');\n        s.src = paths[lib];\n        s.async = true;\n        s.onload = () => resolve(paths[lib]);\n        s.onerror = () => reject(`Error loading script: ${paths[lib]}`);\n        document.getElementsByTagName(\"head\")[0].appendChild(s);\n      });\n    }\n\n    function showError(err) {\n      outputDiv.innerHTML = `<div class=\"error\" style=\"color:red;\">${err}</div>`;\n      throw err;\n    }\n\n    function displayChart(vegaEmbed) {\n      vegaEmbed(outputDiv, spec, embedOpt)\n        .catch(err => showError(`Javascript Error: ${err.message}<br>This usually means there's a typo in your chart specification. See the javascript console for the full traceback.`));\n    }\n\n    if(typeof define === \"function\" && define.amd) {\n      requirejs.config({paths});\n      require([\"vega-embed\"], displayChart, err => showError(`Error loading script: ${err.message}`));\n    } else if (typeof vegaEmbed === \"function\") {\n      displayChart(vegaEmbed);\n    } else {\n      loadScript(\"vega\")\n        .then(() => loadScript(\"vega-lite\"))\n        .then(() => loadScript(\"vega-embed\"))\n        .catch(showError)\n        .then(() => displayChart(vegaEmbed));\n    }\n  })({\"config\": {\"view\": {\"continuousWidth\": 400, \"continuousHeight\": 300}, \"axisX\": {\"labelAngle\": -40}}, \"data\": {\"url\": \"http://localhost:18740/9d0dc1d909a7ca9748555bdf2a905d12.json\"}, \"mark\": {\"type\": \"bar\", \"opacity\": 0.4}, \"encoding\": {\"color\": {\"type\": \"nominal\", \"field\": \"sector\", \"title\": \"Sector\"}, \"x\": {\"type\": \"nominal\", \"field\": \"month\", \"sort\": [\"January\", \"February\", \"March\", \"April\", \"May\", \"June\", \"July\", \"August\", \"September\", \"October\", \"November\", \"December\"], \"title\": \"Month\"}, \"y\": {\"type\": \"quantitative\", \"aggregate\": \"sum\", \"field\": \"fatalities\", \"stack\": null, \"title\": \"Total Fatalities\"}}, \"height\": 500, \"title\": \"Total Fatalities by Month\", \"width\": 750, \"$schema\": \"https://vega.github.io/schema/vega-lite/v4.8.1.json\"}, {\"mode\": \"vega-lite\"});\n</script>",
      "text/plain": "alt.Chart(...)"
     },
     "execution_count": 11,
     "metadata": {},
     "output_type": "execute_result"
    }
   ],
   "source": [
    "month_order = [\n",
    "    \"January\",\n",
    "    \"February\",\n",
    "    \"March\",\n",
    "    \"April\",\n",
    "    \"May\",\n",
    "    \"June\",\n",
    "    \"July\",\n",
    "    \"August\",\n",
    "    \"September\",\n",
    "    \"October\",\n",
    "    \"November\",\n",
    "    \"December\",\n",
    "]\n",
    "\n",
    "alt.Chart(df).mark_bar(opacity = 0.4).encode(\n",
    "    x = alt.X(\"month:N\", title = \"Month\", sort = month_order),\n",
    "    y = alt.Y(\"sum(fatalities):Q\", title = \"Total Fatalities\", stack = None),\n",
    "    color = alt.Color(\"sector:N\", title = \"Sector\")\n",
    ").properties(\n",
    "    title = \"Total Fatalities by Month\",\n",
    "    height = 500,\n",
    "    width = 750\n",
    ").configure_axisX(\n",
    "    labelAngle = -40\n",
    ")"
   ]
  },
  {
   "cell_type": "code",
   "execution_count": 12,
   "metadata": {},
   "outputs": [
    {
     "data": {
      "text/html": "\n<div id=\"altair-viz-e974e11877fb4dd1b8eaeb3895a2f321\"></div>\n<script type=\"text/javascript\">\n  (function(spec, embedOpt){\n    let outputDiv = document.currentScript.previousElementSibling;\n    if (outputDiv.id !== \"altair-viz-e974e11877fb4dd1b8eaeb3895a2f321\") {\n      outputDiv = document.getElementById(\"altair-viz-e974e11877fb4dd1b8eaeb3895a2f321\");\n    }\n    const paths = {\n      \"vega\": \"https://cdn.jsdelivr.net/npm//vega@5?noext\",\n      \"vega-lib\": \"https://cdn.jsdelivr.net/npm//vega-lib?noext\",\n      \"vega-lite\": \"https://cdn.jsdelivr.net/npm//vega-lite@4.8.1?noext\",\n      \"vega-embed\": \"https://cdn.jsdelivr.net/npm//vega-embed@6?noext\",\n    };\n\n    function loadScript(lib) {\n      return new Promise(function(resolve, reject) {\n        var s = document.createElement('script');\n        s.src = paths[lib];\n        s.async = true;\n        s.onload = () => resolve(paths[lib]);\n        s.onerror = () => reject(`Error loading script: ${paths[lib]}`);\n        document.getElementsByTagName(\"head\")[0].appendChild(s);\n      });\n    }\n\n    function showError(err) {\n      outputDiv.innerHTML = `<div class=\"error\" style=\"color:red;\">${err}</div>`;\n      throw err;\n    }\n\n    function displayChart(vegaEmbed) {\n      vegaEmbed(outputDiv, spec, embedOpt)\n        .catch(err => showError(`Javascript Error: ${err.message}<br>This usually means there's a typo in your chart specification. See the javascript console for the full traceback.`));\n    }\n\n    if(typeof define === \"function\" && define.amd) {\n      requirejs.config({paths});\n      require([\"vega-embed\"], displayChart, err => showError(`Error loading script: ${err.message}`));\n    } else if (typeof vegaEmbed === \"function\") {\n      displayChart(vegaEmbed);\n    } else {\n      loadScript(\"vega\")\n        .then(() => loadScript(\"vega-lite\"))\n        .then(() => loadScript(\"vega-embed\"))\n        .catch(showError)\n        .then(() => displayChart(vegaEmbed));\n    }\n  })({\"config\": {\"view\": {\"continuousWidth\": 400, \"continuousHeight\": 300}}, \"data\": {\"url\": \"http://localhost:18740/9d0dc1d909a7ca9748555bdf2a905d12.json\"}, \"mark\": {\"type\": \"line\", \"interpolate\": \"basis\"}, \"encoding\": {\"color\": {\"type\": \"nominal\", \"field\": \"sector\", \"title\": \"Sector\"}, \"x\": {\"type\": \"temporal\", \"field\": \"date\", \"timeUnit\": \"year\", \"title\": \"Year\"}, \"y\": {\"type\": \"quantitative\", \"aggregate\": \"mean\", \"axis\": {\"format\": \"%\"}, \"field\": \"fatality_pct\", \"title\": \"Fatality Rate\"}}, \"height\": 500, \"title\": \"Crash Fatality Rate by Year and Sector\", \"width\": 750, \"$schema\": \"https://vega.github.io/schema/vega-lite/v4.8.1.json\"}, {\"mode\": \"vega-lite\"});\n</script>",
      "text/plain": "alt.Chart(...)"
     },
     "execution_count": 12,
     "metadata": {},
     "output_type": "execute_result"
    }
   ],
   "source": [
    "chart = (alt.Chart(df).mark_line(interpolate=\"basis\").encode(\n",
    "    x = alt.X(\"year(date):T\", title = \"Year\"),\n",
    "    y = alt.Y(\"mean(fatality_pct):Q\", title = \"Fatality Rate\", axis=alt.Axis(format=\"%\")),\n",
    "    color = alt.Color(\"sector:N\", title = \"Sector\")\n",
    ").properties(\n",
    "    title = \"Crash Fatality Rate by Year and Sector\",\n",
    "    width = 750,\n",
    "    height = 500\n",
    "))\n",
    "\n",
    "chart"
   ]
  },
  {
   "cell_type": "code",
   "execution_count": 13,
   "metadata": {},
   "outputs": [
    {
     "data": {
      "text/html": "\n<div id=\"altair-viz-250da0b9037d4df89853c6defe472e53\"></div>\n<script type=\"text/javascript\">\n  (function(spec, embedOpt){\n    let outputDiv = document.currentScript.previousElementSibling;\n    if (outputDiv.id !== \"altair-viz-250da0b9037d4df89853c6defe472e53\") {\n      outputDiv = document.getElementById(\"altair-viz-250da0b9037d4df89853c6defe472e53\");\n    }\n    const paths = {\n      \"vega\": \"https://cdn.jsdelivr.net/npm//vega@5?noext\",\n      \"vega-lib\": \"https://cdn.jsdelivr.net/npm//vega-lib?noext\",\n      \"vega-lite\": \"https://cdn.jsdelivr.net/npm//vega-lite@4.8.1?noext\",\n      \"vega-embed\": \"https://cdn.jsdelivr.net/npm//vega-embed@6?noext\",\n    };\n\n    function loadScript(lib) {\n      return new Promise(function(resolve, reject) {\n        var s = document.createElement('script');\n        s.src = paths[lib];\n        s.async = true;\n        s.onload = () => resolve(paths[lib]);\n        s.onerror = () => reject(`Error loading script: ${paths[lib]}`);\n        document.getElementsByTagName(\"head\")[0].appendChild(s);\n      });\n    }\n\n    function showError(err) {\n      outputDiv.innerHTML = `<div class=\"error\" style=\"color:red;\">${err}</div>`;\n      throw err;\n    }\n\n    function displayChart(vegaEmbed) {\n      vegaEmbed(outputDiv, spec, embedOpt)\n        .catch(err => showError(`Javascript Error: ${err.message}<br>This usually means there's a typo in your chart specification. See the javascript console for the full traceback.`));\n    }\n\n    if(typeof define === \"function\" && define.amd) {\n      requirejs.config({paths});\n      require([\"vega-embed\"], displayChart, err => showError(`Error loading script: ${err.message}`));\n    } else if (typeof vegaEmbed === \"function\") {\n      displayChart(vegaEmbed);\n    } else {\n      loadScript(\"vega\")\n        .then(() => loadScript(\"vega-lite\"))\n        .then(() => loadScript(\"vega-embed\"))\n        .catch(showError)\n        .then(() => displayChart(vegaEmbed));\n    }\n  })({\"config\": {\"view\": {\"continuousWidth\": 400, \"continuousHeight\": 300}}, \"data\": {\"url\": \"http://localhost:18740/9d0dc1d909a7ca9748555bdf2a905d12.json\"}, \"mark\": {\"type\": \"bar\", \"opacity\": 0.6}, \"encoding\": {\"color\": {\"type\": \"nominal\", \"field\": \"sector\", \"title\": \"Sector\"}, \"x\": {\"type\": \"quantitative\", \"bin\": {\"maxbins\": 10}, \"field\": \"fatality_pct\", \"title\": \"Crash Fatality Rate\"}, \"y\": {\"type\": \"quantitative\", \"aggregate\": \"count\", \"stack\": null}}, \"height\": 500, \"title\": \"Crash Fatality Rate Histogram\", \"width\": 750, \"$schema\": \"https://vega.github.io/schema/vega-lite/v4.8.1.json\"}, {\"mode\": \"vega-lite\"});\n</script>",
      "text/plain": "alt.Chart(...)"
     },
     "execution_count": 13,
     "metadata": {},
     "output_type": "execute_result"
    }
   ],
   "source": [
    "alt.Chart(df).mark_bar(opacity = 0.6).encode(\n",
    "    x = alt.X(\"fatality_pct:Q\", title = \"Crash Fatality Rate\", bin = alt.Bin(maxbins=10)),\n",
    "    y = alt.Y(\"count()\", stack = None),\n",
    "    color = alt.Color(\"sector:N\", title = \"Sector\")\n",
    ").properties(\n",
    "    title = \"Crash Fatality Rate Histogram\",\n",
    "    height = 500,\n",
    "    width = 750\n",
    ")\n"
   ]
  },
  {
   "cell_type": "code",
   "execution_count": 14,
   "metadata": {},
   "outputs": [
    {
     "data": {
      "text/html": "\n<div id=\"altair-viz-2c1fa19c9e1c440a9fdaa6d0af5fca23\"></div>\n<script type=\"text/javascript\">\n  (function(spec, embedOpt){\n    let outputDiv = document.currentScript.previousElementSibling;\n    if (outputDiv.id !== \"altair-viz-2c1fa19c9e1c440a9fdaa6d0af5fca23\") {\n      outputDiv = document.getElementById(\"altair-viz-2c1fa19c9e1c440a9fdaa6d0af5fca23\");\n    }\n    const paths = {\n      \"vega\": \"https://cdn.jsdelivr.net/npm//vega@5?noext\",\n      \"vega-lib\": \"https://cdn.jsdelivr.net/npm//vega-lib?noext\",\n      \"vega-lite\": \"https://cdn.jsdelivr.net/npm//vega-lite@4.8.1?noext\",\n      \"vega-embed\": \"https://cdn.jsdelivr.net/npm//vega-embed@6?noext\",\n    };\n\n    function loadScript(lib) {\n      return new Promise(function(resolve, reject) {\n        var s = document.createElement('script');\n        s.src = paths[lib];\n        s.async = true;\n        s.onload = () => resolve(paths[lib]);\n        s.onerror = () => reject(`Error loading script: ${paths[lib]}`);\n        document.getElementsByTagName(\"head\")[0].appendChild(s);\n      });\n    }\n\n    function showError(err) {\n      outputDiv.innerHTML = `<div class=\"error\" style=\"color:red;\">${err}</div>`;\n      throw err;\n    }\n\n    function displayChart(vegaEmbed) {\n      vegaEmbed(outputDiv, spec, embedOpt)\n        .catch(err => showError(`Javascript Error: ${err.message}<br>This usually means there's a typo in your chart specification. See the javascript console for the full traceback.`));\n    }\n\n    if(typeof define === \"function\" && define.amd) {\n      requirejs.config({paths});\n      require([\"vega-embed\"], displayChart, err => showError(`Error loading script: ${err.message}`));\n    } else if (typeof vegaEmbed === \"function\") {\n      displayChart(vegaEmbed);\n    } else {\n      loadScript(\"vega\")\n        .then(() => loadScript(\"vega-lite\"))\n        .then(() => loadScript(\"vega-embed\"))\n        .catch(showError)\n        .then(() => displayChart(vegaEmbed));\n    }\n  })({\"config\": {\"view\": {\"continuousWidth\": 400, \"continuousHeight\": 300}}, \"data\": {\"url\": \"http://localhost:18740/735a80026236713c9014de6fa985fba3.json\"}, \"mark\": {\"type\": \"bar\", \"opacity\": 0.6}, \"encoding\": {\"color\": {\"type\": \"nominal\", \"field\": \"sector\", \"title\": \"Sector\"}, \"x\": {\"type\": \"quantitative\", \"bin\": {\"maxbins\": 20}, \"field\": \"fatality_pct\", \"title\": \"Crash Fatality Rate\"}, \"y\": {\"type\": \"quantitative\", \"aggregate\": \"count\", \"stack\": null}}, \"height\": 500, \"title\": \"Crash Fatality Rate Histogram (Crashes with Fatality Rate < 1)\", \"width\": 750, \"$schema\": \"https://vega.github.io/schema/vega-lite/v4.8.1.json\"}, {\"mode\": \"vega-lite\"});\n</script>",
      "text/plain": "alt.Chart(...)"
     },
     "execution_count": 14,
     "metadata": {},
     "output_type": "execute_result"
    }
   ],
   "source": [
    "alt.Chart(df[df[\"fatality_pct\"] < 1]).mark_bar(opacity = 0.6).encode(\n",
    "    x = alt.X(\"fatality_pct:Q\", title = \"Crash Fatality Rate\", bin = alt.Bin(maxbins=20)),\n",
    "    y = alt.Y(\"count()\", stack = None),\n",
    "    color = alt.Color(\"sector:N\", title = \"Sector\")\n",
    ").properties(\n",
    "    title = \"Crash Fatality Rate Histogram (Crashes with Fatality Rate < 1)\",\n",
    "    height = 500,\n",
    "    width = 750\n",
    ")"
   ]
  },
  {
   "cell_type": "code",
   "execution_count": 15,
   "metadata": {},
   "outputs": [
    {
     "data": {
      "text/html": "\n<div id=\"altair-viz-53b9570aec4e4379b5e6badb21faa3b4\"></div>\n<script type=\"text/javascript\">\n  (function(spec, embedOpt){\n    let outputDiv = document.currentScript.previousElementSibling;\n    if (outputDiv.id !== \"altair-viz-53b9570aec4e4379b5e6badb21faa3b4\") {\n      outputDiv = document.getElementById(\"altair-viz-53b9570aec4e4379b5e6badb21faa3b4\");\n    }\n    const paths = {\n      \"vega\": \"https://cdn.jsdelivr.net/npm//vega@5?noext\",\n      \"vega-lib\": \"https://cdn.jsdelivr.net/npm//vega-lib?noext\",\n      \"vega-lite\": \"https://cdn.jsdelivr.net/npm//vega-lite@4.8.1?noext\",\n      \"vega-embed\": \"https://cdn.jsdelivr.net/npm//vega-embed@6?noext\",\n    };\n\n    function loadScript(lib) {\n      return new Promise(function(resolve, reject) {\n        var s = document.createElement('script');\n        s.src = paths[lib];\n        s.async = true;\n        s.onload = () => resolve(paths[lib]);\n        s.onerror = () => reject(`Error loading script: ${paths[lib]}`);\n        document.getElementsByTagName(\"head\")[0].appendChild(s);\n      });\n    }\n\n    function showError(err) {\n      outputDiv.innerHTML = `<div class=\"error\" style=\"color:red;\">${err}</div>`;\n      throw err;\n    }\n\n    function displayChart(vegaEmbed) {\n      vegaEmbed(outputDiv, spec, embedOpt)\n        .catch(err => showError(`Javascript Error: ${err.message}<br>This usually means there's a typo in your chart specification. See the javascript console for the full traceback.`));\n    }\n\n    if(typeof define === \"function\" && define.amd) {\n      requirejs.config({paths});\n      require([\"vega-embed\"], displayChart, err => showError(`Error loading script: ${err.message}`));\n    } else if (typeof vegaEmbed === \"function\") {\n      displayChart(vegaEmbed);\n    } else {\n      loadScript(\"vega\")\n        .then(() => loadScript(\"vega-lite\"))\n        .then(() => loadScript(\"vega-embed\"))\n        .catch(showError)\n        .then(() => displayChart(vegaEmbed));\n    }\n  })({\"config\": {\"view\": {\"continuousWidth\": 400, \"continuousHeight\": 300}, \"axisX\": {\"labelAngle\": -40}}, \"data\": {\"url\": \"http://localhost:18740/274c3627cf552504a497d49da4825f80.json\"}, \"mark\": \"bar\", \"encoding\": {\"x\": {\"type\": \"nominal\", \"field\": \"manufacturer\", \"sort\": \"-y\", \"title\": \"Manufacturer\"}, \"y\": {\"type\": \"quantitative\", \"field\": \"fatalities\", \"title\": \"Fatalities\"}}, \"height\": 500, \"title\": \"Fatalities by Aircraft Manufacturer\", \"width\": 750, \"$schema\": \"https://vega.github.io/schema/vega-lite/v4.8.1.json\"}, {\"mode\": \"vega-lite\"});\n</script>",
      "text/plain": "alt.Chart(...)"
     },
     "execution_count": 15,
     "metadata": {},
     "output_type": "execute_result"
    }
   ],
   "source": [
    "alt.Chart(df.groupby(\"manufacturer\").sum().nlargest(10, \"fatalities\").reset_index()).mark_bar().encode(\n",
    "    x = alt.X(\"manufacturer:N\", title = \"Manufacturer\", sort = \"-y\"),\n",
    "    y = alt.Y(\"fatalities:Q\", title = \"Fatalities\")\n",
    ").properties(\n",
    "    title = \"Fatalities by Aircraft Manufacturer\",\n",
    "    width = 750,\n",
    "    height = 500\n",
    ").configure_axisX(\n",
    "    labelAngle = -40\n",
    ")"
   ]
  },
  {
   "cell_type": "code",
   "execution_count": 16,
   "metadata": {},
   "outputs": [],
   "source": [
    "top_10_manf = set([\"Boeing\", \"Douglas\", \"Lockheed\", \"McDonell Douglas\", \"Antonov\", \"Tupolev\", \"Ilyushin\", \"Airbus\", \"De Havilland\", \"Fokker\"])\n",
    "top_10_manf_df = df[df[\"manufacturer\"].isin(top_10_manf)]"
   ]
  },
  {
   "cell_type": "code",
   "execution_count": 18,
   "metadata": {},
   "outputs": [
    {
     "data": {
      "text/html": "\n<div id=\"altair-viz-b8195bd1b0384fa5b34727b7c93804be\"></div>\n<script type=\"text/javascript\">\n  (function(spec, embedOpt){\n    let outputDiv = document.currentScript.previousElementSibling;\n    if (outputDiv.id !== \"altair-viz-b8195bd1b0384fa5b34727b7c93804be\") {\n      outputDiv = document.getElementById(\"altair-viz-b8195bd1b0384fa5b34727b7c93804be\");\n    }\n    const paths = {\n      \"vega\": \"https://cdn.jsdelivr.net/npm//vega@5?noext\",\n      \"vega-lib\": \"https://cdn.jsdelivr.net/npm//vega-lib?noext\",\n      \"vega-lite\": \"https://cdn.jsdelivr.net/npm//vega-lite@4.8.1?noext\",\n      \"vega-embed\": \"https://cdn.jsdelivr.net/npm//vega-embed@6?noext\",\n    };\n\n    function loadScript(lib) {\n      return new Promise(function(resolve, reject) {\n        var s = document.createElement('script');\n        s.src = paths[lib];\n        s.async = true;\n        s.onload = () => resolve(paths[lib]);\n        s.onerror = () => reject(`Error loading script: ${paths[lib]}`);\n        document.getElementsByTagName(\"head\")[0].appendChild(s);\n      });\n    }\n\n    function showError(err) {\n      outputDiv.innerHTML = `<div class=\"error\" style=\"color:red;\">${err}</div>`;\n      throw err;\n    }\n\n    function displayChart(vegaEmbed) {\n      vegaEmbed(outputDiv, spec, embedOpt)\n        .catch(err => showError(`Javascript Error: ${err.message}<br>This usually means there's a typo in your chart specification. See the javascript console for the full traceback.`));\n    }\n\n    if(typeof define === \"function\" && define.amd) {\n      requirejs.config({paths});\n      require([\"vega-embed\"], displayChart, err => showError(`Error loading script: ${err.message}`));\n    } else if (typeof vegaEmbed === \"function\") {\n      displayChart(vegaEmbed);\n    } else {\n      loadScript(\"vega\")\n        .then(() => loadScript(\"vega-lite\"))\n        .then(() => loadScript(\"vega-embed\"))\n        .catch(showError)\n        .then(() => displayChart(vegaEmbed));\n    }\n  })({\"config\": {\"view\": {\"continuousWidth\": 400, \"continuousHeight\": 300}, \"axisX\": {\"labelAngle\": -40}}, \"data\": {\"url\": \"http://localhost:18740/ed06734be16c3c7d068ea5c01ee178dc.json\"}, \"mark\": \"bar\", \"encoding\": {\"color\": {\"type\": \"quantitative\", \"field\": \"fatality_pct\", \"scale\": {\"scheme\": \"blues\"}, \"title\": null}, \"x\": {\"type\": \"nominal\", \"field\": \"manufacturer\", \"sort\": \"-y\", \"title\": \"Manufacturer\"}, \"y\": {\"type\": \"quantitative\", \"axis\": {\"format\": \"%\"}, \"field\": \"fatality_pct\", \"title\": \"Crash Fatality Rate\"}}, \"height\": 500, \"title\": \"Mean Crash Fatality Rate by Aircraft Manufacturer\", \"width\": 750, \"$schema\": \"https://vega.github.io/schema/vega-lite/v4.8.1.json\"}, {\"mode\": \"vega-lite\"});\n</script>",
      "text/plain": "alt.Chart(...)"
     },
     "execution_count": 18,
     "metadata": {},
     "output_type": "execute_result"
    }
   ],
   "source": [
    "alt.Chart(top_10_manf_df.groupby(\"manufacturer\").mean().sort_values(by=\"fatality_pct\", ascending = False).dropna().reset_index()).mark_bar().encode(\n",
    "    x = alt.X(\"manufacturer:N\", title = \"Manufacturer\", sort = \"-y\"),\n",
    "    y = alt.Y(\"fatality_pct:Q\", title = \"Crash Fatality Rate\", axis = alt.Axis(format = \"%\")),\n",
    "    color = alt.Color(\"fatality_pct:Q\", title = None, scale = alt.Scale(scheme=\"blues\"))\n",
    ").properties(\n",
    "    title = \"Mean Crash Fatality Rate by Aircraft Manufacturer\",\n",
    "    height = 500,\n",
    "    width = 750\n",
    ").configure_axisX(\n",
    "    labelAngle = -40\n",
    ")"
   ]
  }
 ],
 "metadata": {
  "kernelspec": {
   "display_name": "Python 3.8.5 64-bit ('aircraft_crashes': conda)",
   "metadata": {
    "interpreter": {
     "hash": "aecc875b81a1c64fa3e8cecfc3c7ac6323a5d8d12b7d5f29455ecf715fc40394"
    }
   },
   "name": "python3"
  },
  "language_info": {
   "codemirror_mode": {
    "name": "ipython",
    "version": 3
   },
   "file_extension": ".py",
   "mimetype": "text/x-python",
   "name": "python",
   "nbconvert_exporter": "python",
   "pygments_lexer": "ipython3",
   "version": "3.8.5"
  },
  "orig_nbformat": 2
 },
 "nbformat": 4,
 "nbformat_minor": 2
}