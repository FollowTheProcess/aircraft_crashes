{
 "cells": [
  {
   "cell_type": "markdown",
   "metadata": {},
   "source": [
    "# Notebook 02: EDA\n",
    "\n",
    "In this notebook I'm going to dive a bit deeper into the (now cleaned) dataset"
   ]
  },
  {
   "cell_type": "code",
   "execution_count": 1,
   "metadata": {},
   "outputs": [
    {
     "data": {
      "text/plain": "DataTransformerRegistry.enable('data_server')"
     },
     "execution_count": 1,
     "metadata": {},
     "output_type": "execute_result"
    }
   ],
   "source": [
    "import pandas as pd\n",
    "import numpy as np\n",
    "from pandas_profiling import ProfileReport\n",
    "import altair as alt\n",
    "import altair_data_server\n",
    "\n",
    "from sklearn.feature_extraction.text import CountVectorizer\n",
    "\n",
    "from src.data.load_data import Data\n",
    "\n",
    "alt.data_transformers.enable(\"data_server\")\n"
   ]
  },
  {
   "cell_type": "code",
   "execution_count": 2,
   "metadata": {},
   "outputs": [],
   "source": [
    "df = Data().load(clean=True)"
   ]
  },
  {
   "cell_type": "code",
   "execution_count": 3,
   "metadata": {},
   "outputs": [
    {
     "name": "stdout",
     "output_type": "stream",
     "text": [
      "<class 'pandas.core.frame.DataFrame'>\n",
      "Int64Index: 4814 entries, 0 to 5267\n",
      "Data columns (total 13 columns):\n",
      " #   Column        Non-Null Count  Dtype         \n",
      "---  ------        --------------  -----         \n",
      " 0   date          4814 non-null   datetime64[ns]\n",
      " 1   year          4814 non-null   int64         \n",
      " 2   month         4814 non-null   string        \n",
      " 3   location      4814 non-null   string        \n",
      " 4   country       4814 non-null   category      \n",
      " 5   sector        4814 non-null   category      \n",
      " 6   operator      4814 non-null   string        \n",
      " 7   type          4814 non-null   string        \n",
      " 8   aboard        4814 non-null   int64         \n",
      " 9   fatalities    4814 non-null   int64         \n",
      " 10  fatality_pct  4812 non-null   float64       \n",
      " 11  ground        4814 non-null   int64         \n",
      " 12  summary       4814 non-null   string        \n",
      "dtypes: category(2), datetime64[ns](1), float64(1), int64(4), string(5)\n",
      "memory usage: 2.9 MB\n"
     ]
    }
   ],
   "source": [
    "df.info(memory_usage='deep')"
   ]
  },
  {
   "cell_type": "code",
   "execution_count": 4,
   "metadata": {},
   "outputs": [
    {
     "data": {
      "text/html": "<div>\n<style scoped>\n    .dataframe tbody tr th:only-of-type {\n        vertical-align: middle;\n    }\n\n    .dataframe tbody tr th {\n        vertical-align: top;\n    }\n\n    .dataframe thead th {\n        text-align: right;\n    }\n</style>\n<table border=\"1\" class=\"dataframe\">\n  <thead>\n    <tr style=\"text-align: right;\">\n      <th></th>\n      <th>date</th>\n      <th>year</th>\n      <th>month</th>\n      <th>location</th>\n      <th>country</th>\n      <th>sector</th>\n      <th>operator</th>\n      <th>type</th>\n      <th>aboard</th>\n      <th>fatalities</th>\n      <th>fatality_pct</th>\n      <th>ground</th>\n      <th>summary</th>\n    </tr>\n  </thead>\n  <tbody>\n    <tr>\n      <th>2877</th>\n      <td>1976-09-02</td>\n      <td>1976</td>\n      <td>September</td>\n      <td>Hawk Inlet, Alaska</td>\n      <td>United States</td>\n      <td>Commercial</td>\n      <td>Temsco Helicopter - Air Taxi</td>\n      <td>Hughes 369HS</td>\n      <td>4</td>\n      <td>3</td>\n      <td>0.750000</td>\n      <td>0</td>\n      <td>Crashed while climbing to cruise altitude. Fai...</td>\n    </tr>\n    <tr>\n      <th>1138</th>\n      <td>1951-07-12</td>\n      <td>1951</td>\n      <td>July</td>\n      <td>Lyneham AFB, England</td>\n      <td>England</td>\n      <td>Military</td>\n      <td>Military - Royal Air Force</td>\n      <td>Vickers Valetta C-1</td>\n      <td>10</td>\n      <td>10</td>\n      <td>1.000000</td>\n      <td>0</td>\n      <td>One engine caught fire. The propellers of the ...</td>\n    </tr>\n    <tr>\n      <th>3887</th>\n      <td>1989-10-04</td>\n      <td>1989</td>\n      <td>October</td>\n      <td>Perth, Ontario, Canada</td>\n      <td>Canada</td>\n      <td>Military</td>\n      <td>Military - U.S. Air Force</td>\n      <td>Boeing KC-135A</td>\n      <td>4</td>\n      <td>4</td>\n      <td>1.000000</td>\n      <td>0</td>\n      <td>A dry  fuel pump led to the ignition of fuel v...</td>\n    </tr>\n    <tr>\n      <th>5151</th>\n      <td>2007-06-13</td>\n      <td>2007</td>\n      <td>June</td>\n      <td>Selenge province, Mongolia</td>\n      <td>Mongolia</td>\n      <td>Commercial</td>\n      <td>Mongolian Defense Ministry</td>\n      <td>Mi-8</td>\n      <td>22</td>\n      <td>15</td>\n      <td>0.681818</td>\n      <td>0</td>\n      <td>While en route to a forest fire, the helicopte...</td>\n    </tr>\n    <tr>\n      <th>4291</th>\n      <td>1994-10-26</td>\n      <td>1994</td>\n      <td>October</td>\n      <td>Near Cuito, Angola</td>\n      <td>Angola</td>\n      <td>Military</td>\n      <td>Military - Angolan Air Force</td>\n      <td>Mil Mi-8MTV (helicopter)</td>\n      <td>22</td>\n      <td>22</td>\n      <td>1.000000</td>\n      <td>0</td>\n      <td>Shot down by rebel forces.</td>\n    </tr>\n    <tr>\n      <th>479</th>\n      <td>1938-07-27</td>\n      <td>1938</td>\n      <td>July</td>\n      <td>Kisumu, Kenya</td>\n      <td>Kenya</td>\n      <td>Commercial</td>\n      <td>Imperial Airways</td>\n      <td>Armstrong-Withworth Atlanta</td>\n      <td>4</td>\n      <td>4</td>\n      <td>1.000000</td>\n      <td>0</td>\n      <td>Flew into a hillside soon after takeoff from K...</td>\n    </tr>\n    <tr>\n      <th>2499</th>\n      <td>1971-10-02</td>\n      <td>1971</td>\n      <td>October</td>\n      <td>Near Aarsele, West Vlaanderen, Belgium</td>\n      <td>Belgium</td>\n      <td>Commercial</td>\n      <td>British European Airways</td>\n      <td>Vickers Vanguard 951</td>\n      <td>63</td>\n      <td>63</td>\n      <td>1.000000</td>\n      <td>0</td>\n      <td>While en route a distress message was received...</td>\n    </tr>\n    <tr>\n      <th>4467</th>\n      <td>1996-12-21</td>\n      <td>1996</td>\n      <td>December</td>\n      <td>Rio Negro, Colombia</td>\n      <td>Colombia</td>\n      <td>Commercial</td>\n      <td>SELVA</td>\n      <td>Antonov An-32B</td>\n      <td>4</td>\n      <td>4</td>\n      <td>1.000000</td>\n      <td>0</td>\n      <td>The cargo plane crashed short of the runway wh...</td>\n    </tr>\n    <tr>\n      <th>2842</th>\n      <td>1975-09-11</td>\n      <td>1975</td>\n      <td>September</td>\n      <td>Near Bahar Dar, Ethiopia</td>\n      <td>Ethiopia</td>\n      <td>Commercial</td>\n      <td>Ethiopian Airlines</td>\n      <td>Douglas C-47-DL</td>\n      <td>9</td>\n      <td>1</td>\n      <td>0.111111</td>\n      <td>0</td>\n      <td>The plane was flying at FL 115 under VFR in sc...</td>\n    </tr>\n    <tr>\n      <th>3179</th>\n      <td>1979-11-01</td>\n      <td>1979</td>\n      <td>November</td>\n      <td>Big Trout Lake, Canada</td>\n      <td>Canada</td>\n      <td>Commercial</td>\n      <td>Austin Airways</td>\n      <td>De Havilland Dash-6</td>\n      <td>3</td>\n      <td>3</td>\n      <td>1.000000</td>\n      <td>0</td>\n      <td>Sruck the tower while trying to land in poor v...</td>\n    </tr>\n  </tbody>\n</table>\n</div>",
      "text/plain": "           date  year      month                                location  \\\n2877 1976-09-02  1976  September                      Hawk Inlet, Alaska   \n1138 1951-07-12  1951       July                    Lyneham AFB, England   \n3887 1989-10-04  1989    October                  Perth, Ontario, Canada   \n5151 2007-06-13  2007       June              Selenge province, Mongolia   \n4291 1994-10-26  1994    October                      Near Cuito, Angola   \n479  1938-07-27  1938       July                           Kisumu, Kenya   \n2499 1971-10-02  1971    October  Near Aarsele, West Vlaanderen, Belgium   \n4467 1996-12-21  1996   December                     Rio Negro, Colombia   \n2842 1975-09-11  1975  September                Near Bahar Dar, Ethiopia   \n3179 1979-11-01  1979   November                  Big Trout Lake, Canada   \n\n            country      sector                      operator  \\\n2877  United States  Commercial  Temsco Helicopter - Air Taxi   \n1138        England    Military    Military - Royal Air Force   \n3887         Canada    Military     Military - U.S. Air Force   \n5151       Mongolia  Commercial    Mongolian Defense Ministry   \n4291         Angola    Military  Military - Angolan Air Force   \n479           Kenya  Commercial              Imperial Airways   \n2499        Belgium  Commercial      British European Airways   \n4467       Colombia  Commercial                         SELVA   \n2842       Ethiopia  Commercial            Ethiopian Airlines   \n3179         Canada  Commercial                Austin Airways   \n\n                             type  aboard  fatalities  fatality_pct  ground  \\\n2877                 Hughes 369HS       4           3      0.750000       0   \n1138          Vickers Valetta C-1      10          10      1.000000       0   \n3887               Boeing KC-135A       4           4      1.000000       0   \n5151                         Mi-8      22          15      0.681818       0   \n4291     Mil Mi-8MTV (helicopter)      22          22      1.000000       0   \n479   Armstrong-Withworth Atlanta       4           4      1.000000       0   \n2499         Vickers Vanguard 951      63          63      1.000000       0   \n4467               Antonov An-32B       4           4      1.000000       0   \n2842              Douglas C-47-DL       9           1      0.111111       0   \n3179          De Havilland Dash-6       3           3      1.000000       0   \n\n                                                summary  \n2877  Crashed while climbing to cruise altitude. Fai...  \n1138  One engine caught fire. The propellers of the ...  \n3887  A dry  fuel pump led to the ignition of fuel v...  \n5151  While en route to a forest fire, the helicopte...  \n4291                         Shot down by rebel forces.  \n479   Flew into a hillside soon after takeoff from K...  \n2499  While en route a distress message was received...  \n4467  The cargo plane crashed short of the runway wh...  \n2842  The plane was flying at FL 115 under VFR in sc...  \n3179  Sruck the tower while trying to land in poor v...  "
     },
     "execution_count": 4,
     "metadata": {},
     "output_type": "execute_result"
    }
   ],
   "source": [
    "df.sample(10)"
   ]
  },
  {
   "cell_type": "markdown",
   "metadata": {},
   "source": [
    "## Data Cleaning\n",
    "\n",
    "So you'll see we now have a cleaned up version of the raw data when I pass `clean = True` to the `load` method of the `Data` class. If you're interested, this is all implemented in `src/data/load_data.py`.\n",
    "\n",
    "Basic summary of the cleaning steps:\n",
    "\n",
    "* Dropped a few columns:\n",
    "    * `Flight #` - I didn't really see any gainful insights coming from this one, essentially just random numbers generated by the airline\n",
    "    * `Registration` - Similar thing. This is the aircraft's registration number e.g. G-EGHG.\n",
    "    * `cn/In` - Same as registration, this refers to the aircraft's airframe ID or model number.\n",
    "    * `Route` - Initially I wanted to keep this to see if any one route is particularly hazardous etc. but on some scratchpad analysis it seemed there were just too many distinct values to really learn anything.\n",
    "    * `Time` - This is the one I'm most sad about losing. I strongly suspect that accidents at night time are more common than during the day. But there were lots of missing values and I couldn't get it to play nicely in my cleaning pipeline with pandas datetime parsing. It ended up parsing the date correctly but then because the time was `NaN` the whole thing would get cast to an object. If anyone knows a good way of handling this let me know!\n",
    "\n",
    "* Did some basic formatting and tidying i.e. stripping any whitespace from text, dropped any remaining `NaNs`\n",
    "\n",
    "* Extracted some features like `year`, `month`, `country`, whether it was a military, private, or commercial flight etc.\n",
    "\n",
    "* Grouped some countries for example, the country extractor would return names of US states, so I wrote a method to group them under `United States`. Similarly grouped `USSR` and `Russia`\n",
    "\n",
    "* And finally, reordered the columns to satisfy my OCD!"
   ]
  },
  {
   "cell_type": "markdown",
   "metadata": {},
   "source": [
    "## EDA\n",
    "\n",
    "Let's get into it!\n",
    "\n",
    "I'm going to start with my favourite auto-data-magic-summariser... pandas-profiling. I usually do this at the start of an EDA and keep it around to refer back to"
   ]
  },
  {
   "cell_type": "code",
   "execution_count": 5,
   "metadata": {},
   "outputs": [],
   "source": [
    "# ProfileReport(df)"
   ]
  },
  {
   "cell_type": "markdown",
   "metadata": {},
   "source": [
    "Let's start by finding out the top 10 most dangerous countries to fly in..."
   ]
  },
  {
   "cell_type": "code",
   "execution_count": 6,
   "metadata": {},
   "outputs": [
    {
     "data": {
      "text/html": "\n<div id=\"altair-viz-90efeef00de641e0bed3b147d2e60d3e\"></div>\n<script type=\"text/javascript\">\n  (function(spec, embedOpt){\n    let outputDiv = document.currentScript.previousElementSibling;\n    if (outputDiv.id !== \"altair-viz-90efeef00de641e0bed3b147d2e60d3e\") {\n      outputDiv = document.getElementById(\"altair-viz-90efeef00de641e0bed3b147d2e60d3e\");\n    }\n    const paths = {\n      \"vega\": \"https://cdn.jsdelivr.net/npm//vega@5?noext\",\n      \"vega-lib\": \"https://cdn.jsdelivr.net/npm//vega-lib?noext\",\n      \"vega-lite\": \"https://cdn.jsdelivr.net/npm//vega-lite@4.8.1?noext\",\n      \"vega-embed\": \"https://cdn.jsdelivr.net/npm//vega-embed@6?noext\",\n    };\n\n    function loadScript(lib) {\n      return new Promise(function(resolve, reject) {\n        var s = document.createElement('script');\n        s.src = paths[lib];\n        s.async = true;\n        s.onload = () => resolve(paths[lib]);\n        s.onerror = () => reject(`Error loading script: ${paths[lib]}`);\n        document.getElementsByTagName(\"head\")[0].appendChild(s);\n      });\n    }\n\n    function showError(err) {\n      outputDiv.innerHTML = `<div class=\"error\" style=\"color:red;\">${err}</div>`;\n      throw err;\n    }\n\n    function displayChart(vegaEmbed) {\n      vegaEmbed(outputDiv, spec, embedOpt)\n        .catch(err => showError(`Javascript Error: ${err.message}<br>This usually means there's a typo in your chart specification. See the javascript console for the full traceback.`));\n    }\n\n    if(typeof define === \"function\" && define.amd) {\n      requirejs.config({paths});\n      require([\"vega-embed\"], displayChart, err => showError(`Error loading script: ${err.message}`));\n    } else if (typeof vegaEmbed === \"function\") {\n      displayChart(vegaEmbed);\n    } else {\n      loadScript(\"vega\")\n        .then(() => loadScript(\"vega-lite\"))\n        .then(() => loadScript(\"vega-embed\"))\n        .catch(showError)\n        .then(() => displayChart(vegaEmbed));\n    }\n  })({\"config\": {\"view\": {\"continuousWidth\": 400, \"continuousHeight\": 300}, \"axisX\": {\"labelAngle\": -40}}, \"data\": {\"url\": \"http://localhost:23621/4224548cfde0d1fff98d1a8d37e18a64.json\"}, \"mark\": \"bar\", \"encoding\": {\"tooltip\": [{\"type\": \"nominal\", \"field\": \"country\"}, {\"type\": \"quantitative\", \"field\": \"fatalities\"}], \"x\": {\"type\": \"nominal\", \"field\": \"country\", \"sort\": \"-y\", \"title\": \"Country\"}, \"y\": {\"type\": \"quantitative\", \"field\": \"fatalities\", \"title\": \"Total Fatalities\"}}, \"height\": 500, \"title\": \"Total Fatalities by Country (Top 10)\", \"width\": 750, \"$schema\": \"https://vega.github.io/schema/vega-lite/v4.8.1.json\"}, {\"mode\": \"vega-lite\"});\n</script>",
      "text/plain": "alt.Chart(...)"
     },
     "execution_count": 6,
     "metadata": {},
     "output_type": "execute_result"
    }
   ],
   "source": [
    "(alt.Chart(df.groupby(by = \"country\")[[\"fatalities\"]].sum().nlargest(10, [\"fatalities\"]).reset_index())\n",
    ".mark_bar()\n",
    ".encode(\n",
    "    x = alt.X(\"country:N\", title = \"Country\", sort = \"-y\",),\n",
    "    y = alt.Y(\"fatalities:Q\", title = \"Total Fatalities\"),\n",
    "    tooltip = [\"country\", \"fatalities\"]\n",
    ").properties(\n",
    "    title = \"Total Fatalities by Country (Top 10)\",\n",
    "    height = 500,\n",
    "    width = 750\n",
    ").configure_axisX(\n",
    "    labelAngle = -40\n",
    "))"
   ]
  },
  {
   "cell_type": "markdown",
   "metadata": {},
   "source": [
    "Wow, the US does not come off well here. This could be real, however it could also be anything like:\n",
    "\n",
    "* The data was collected from a source in the US enabling more easy data collection for domestic accidents\n",
    "* The population of the US regularly travelling by air is likely to be high compared to the other countries here"
   ]
  },
  {
   "cell_type": "code",
   "execution_count": 7,
   "metadata": {},
   "outputs": [
    {
     "data": {
      "text/html": "\n<div id=\"altair-viz-271bb8ec283f4b7aa5d93af5012d7f42\"></div>\n<script type=\"text/javascript\">\n  (function(spec, embedOpt){\n    let outputDiv = document.currentScript.previousElementSibling;\n    if (outputDiv.id !== \"altair-viz-271bb8ec283f4b7aa5d93af5012d7f42\") {\n      outputDiv = document.getElementById(\"altair-viz-271bb8ec283f4b7aa5d93af5012d7f42\");\n    }\n    const paths = {\n      \"vega\": \"https://cdn.jsdelivr.net/npm//vega@5?noext\",\n      \"vega-lib\": \"https://cdn.jsdelivr.net/npm//vega-lib?noext\",\n      \"vega-lite\": \"https://cdn.jsdelivr.net/npm//vega-lite@4.8.1?noext\",\n      \"vega-embed\": \"https://cdn.jsdelivr.net/npm//vega-embed@6?noext\",\n    };\n\n    function loadScript(lib) {\n      return new Promise(function(resolve, reject) {\n        var s = document.createElement('script');\n        s.src = paths[lib];\n        s.async = true;\n        s.onload = () => resolve(paths[lib]);\n        s.onerror = () => reject(`Error loading script: ${paths[lib]}`);\n        document.getElementsByTagName(\"head\")[0].appendChild(s);\n      });\n    }\n\n    function showError(err) {\n      outputDiv.innerHTML = `<div class=\"error\" style=\"color:red;\">${err}</div>`;\n      throw err;\n    }\n\n    function displayChart(vegaEmbed) {\n      vegaEmbed(outputDiv, spec, embedOpt)\n        .catch(err => showError(`Javascript Error: ${err.message}<br>This usually means there's a typo in your chart specification. See the javascript console for the full traceback.`));\n    }\n\n    if(typeof define === \"function\" && define.amd) {\n      requirejs.config({paths});\n      require([\"vega-embed\"], displayChart, err => showError(`Error loading script: ${err.message}`));\n    } else if (typeof vegaEmbed === \"function\") {\n      displayChart(vegaEmbed);\n    } else {\n      loadScript(\"vega\")\n        .then(() => loadScript(\"vega-lite\"))\n        .then(() => loadScript(\"vega-embed\"))\n        .catch(showError)\n        .then(() => displayChart(vegaEmbed));\n    }\n  })({\"config\": {\"view\": {\"continuousWidth\": 400, \"continuousHeight\": 300}, \"axisX\": {\"labelAngle\": -40}}, \"data\": {\"url\": \"http://localhost:23621/721b7b4e2213847f049de8a408aff27c.json\"}, \"mark\": \"bar\", \"encoding\": {\"x\": {\"type\": \"nominal\", \"field\": \"month\", \"sort\": [\"January\", \"February\", \"March\", \"April\", \"May\", \"June\", \"July\", \"August\", \"September\", \"October\", \"November\", \"December\"], \"title\": \"Month\"}, \"y\": {\"type\": \"quantitative\", \"aggregate\": \"sum\", \"field\": \"fatalities\", \"title\": \"Total Fatalities\"}}, \"height\": 500, \"title\": \"Total Fatalities by Month\", \"width\": 750, \"$schema\": \"https://vega.github.io/schema/vega-lite/v4.8.1.json\"}, {\"mode\": \"vega-lite\"});\n</script>",
      "text/plain": "alt.Chart(...)"
     },
     "execution_count": 7,
     "metadata": {},
     "output_type": "execute_result"
    }
   ],
   "source": [
    "month_order = [\n",
    "    \"January\",\n",
    "    \"February\",\n",
    "    \"March\",\n",
    "    \"April\",\n",
    "    \"May\",\n",
    "    \"June\",\n",
    "    \"July\",\n",
    "    \"August\",\n",
    "    \"September\",\n",
    "    \"October\",\n",
    "    \"November\",\n",
    "    \"December\",\n",
    "]\n",
    "\n",
    "alt.Chart(df).mark_bar().encode(\n",
    "    x = alt.X(\"month:N\", title = \"Month\", sort = month_order),\n",
    "    y = alt.Y(\"sum(fatalities):Q\", title = \"Total Fatalities\")\n",
    ").properties(\n",
    "    title = \"Total Fatalities by Month\",\n",
    "    height = 500,\n",
    "    width = 750\n",
    ").configure_axisX(\n",
    "    labelAngle = -40\n",
    ")"
   ]
  },
  {
   "cell_type": "code",
   "execution_count": 8,
   "metadata": {},
   "outputs": [],
   "source": [
    "# Get a word frequency list for summary\n",
    "cv = CountVectorizer(stop_words = \"english\")\n",
    "\n",
    "cv_fit = cv.fit_transform(df['summary'])\n",
    "\n",
    "\n",
    "words = cv.get_feature_names()\n",
    "counts = np.asarray(cv_fit.sum(axis = 0))\n",
    "\n",
    "# Cast to dictionary of word: frequency\n",
    "wordcount_dict = dict(zip(words, counts[0]))\n",
    "\n",
    "# Make a dataframe from dict and sort by frequency\n",
    "word_df = pd.DataFrame.from_dict(wordcount_dict, orient=\"index\", columns = [\"Count\"]).reset_index().rename(columns = {\"index\": \"Word\"}).sort_values(\"Count\", ascending = False)"
   ]
  },
  {
   "cell_type": "code",
   "execution_count": 9,
   "metadata": {},
   "outputs": [
    {
     "data": {
      "text/html": "<div>\n<style scoped>\n    .dataframe tbody tr th:only-of-type {\n        vertical-align: middle;\n    }\n\n    .dataframe tbody tr th {\n        vertical-align: top;\n    }\n\n    .dataframe thead th {\n        text-align: right;\n    }\n</style>\n<table border=\"1\" class=\"dataframe\">\n  <thead>\n    <tr style=\"text-align: right;\">\n      <th></th>\n      <th>Word</th>\n      <th>Count</th>\n    </tr>\n  </thead>\n  <tbody>\n    <tr>\n      <th>2313</th>\n      <td>crashed</td>\n      <td>3182</td>\n    </tr>\n    <tr>\n      <th>640</th>\n      <td>aircraft</td>\n      <td>2470</td>\n    </tr>\n    <tr>\n      <th>6411</th>\n      <td>plane</td>\n      <td>1843</td>\n    </tr>\n    <tr>\n      <th>6373</th>\n      <td>pilot</td>\n      <td>1284</td>\n    </tr>\n    <tr>\n      <th>3448</th>\n      <td>flight</td>\n      <td>1165</td>\n    </tr>\n    <tr>\n      <th>...</th>\n      <td>...</td>\n      <td>...</td>\n    </tr>\n    <tr>\n      <th>2551</th>\n      <td>denied</td>\n      <td>1</td>\n    </tr>\n    <tr>\n      <th>5774</th>\n      <td>neveu</td>\n      <td>1</td>\n    </tr>\n    <tr>\n      <th>2552</th>\n      <td>dennis</td>\n      <td>1</td>\n    </tr>\n    <tr>\n      <th>5772</th>\n      <td>nevada</td>\n      <td>1</td>\n    </tr>\n    <tr>\n      <th>9198</th>\n      <td>îles</td>\n      <td>1</td>\n    </tr>\n  </tbody>\n</table>\n<p>9199 rows × 2 columns</p>\n</div>",
      "text/plain": "          Word  Count\n2313   crashed   3182\n640   aircraft   2470\n6411     plane   1843\n6373     pilot   1284\n3448    flight   1165\n...        ...    ...\n2551    denied      1\n5774     neveu      1\n2552    dennis      1\n5772    nevada      1\n9198      îles      1\n\n[9199 rows x 2 columns]"
     },
     "execution_count": 9,
     "metadata": {},
     "output_type": "execute_result"
    }
   ],
   "source": [
    "word_df"
   ]
  },
  {
   "cell_type": "code",
   "execution_count": null,
   "metadata": {},
   "outputs": [],
   "source": []
  }
 ],
 "metadata": {
  "kernelspec": {
   "display_name": "Python 3.8.5 64-bit ('aircraft_crashes': conda)",
   "metadata": {
    "interpreter": {
     "hash": "aecc875b81a1c64fa3e8cecfc3c7ac6323a5d8d12b7d5f29455ecf715fc40394"
    }
   },
   "name": "python3"
  },
  "language_info": {
   "codemirror_mode": {
    "name": "ipython",
    "version": 3
   },
   "file_extension": ".py",
   "mimetype": "text/x-python",
   "name": "python",
   "nbconvert_exporter": "python",
   "pygments_lexer": "ipython3",
   "version": "3.8.5"
  },
  "orig_nbformat": 2
 },
 "nbformat": 4,
 "nbformat_minor": 2
}