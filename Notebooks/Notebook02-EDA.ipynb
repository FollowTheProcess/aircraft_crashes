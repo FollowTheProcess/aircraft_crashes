{
 "cells": [
  {
   "cell_type": "markdown",
   "metadata": {},
   "source": [
    "# Notebook 02: EDA\n",
    "\n",
    "In this notebook I'm going to dive a bit deeper into the (now cleaned) dataset"
   ]
  },
  {
   "cell_type": "code",
   "execution_count": 1,
   "metadata": {},
   "outputs": [
    {
     "data": {
      "text/plain": "DataTransformerRegistry.enable('data_server')"
     },
     "execution_count": 1,
     "metadata": {},
     "output_type": "execute_result"
    }
   ],
   "source": [
    "import pandas as pd\n",
    "import numpy as np\n",
    "from pandas_profiling import ProfileReport\n",
    "import altair as alt\n",
    "import altair_data_server\n",
    "\n",
    "from src.data.load_data import Data\n",
    "\n",
    "alt.data_transformers.enable(\"data_server\")\n"
   ]
  },
  {
   "cell_type": "code",
   "execution_count": 2,
   "metadata": {},
   "outputs": [],
   "source": [
    "df = Data().load(clean=True)"
   ]
  },
  {
   "cell_type": "code",
   "execution_count": 3,
   "metadata": {},
   "outputs": [
    {
     "name": "stdout",
     "output_type": "stream",
     "text": [
      "<class 'pandas.core.frame.DataFrame'>\n",
      "Int64Index: 4814 entries, 0 to 5267\n",
      "Data columns (total 14 columns):\n",
      " #   Column        Non-Null Count  Dtype         \n",
      "---  ------        --------------  -----         \n",
      " 0   date          4814 non-null   datetime64[ns]\n",
      " 1   year          4814 non-null   int64         \n",
      " 2   month         4814 non-null   string        \n",
      " 3   location      4814 non-null   string        \n",
      " 4   country       4814 non-null   category      \n",
      " 5   sector        4814 non-null   category      \n",
      " 6   operator      4814 non-null   string        \n",
      " 7   manufacturer  4814 non-null   category      \n",
      " 8   type          4814 non-null   string        \n",
      " 9   aboard        4814 non-null   int64         \n",
      " 10  fatalities    4814 non-null   int64         \n",
      " 11  fatality_pct  4812 non-null   float64       \n",
      " 12  ground        4814 non-null   int64         \n",
      " 13  summary       4814 non-null   string        \n",
      "dtypes: category(3), datetime64[ns](1), float64(1), int64(4), string(5)\n",
      "memory usage: 2.9 MB\n"
     ]
    }
   ],
   "source": [
    "df.info(memory_usage='deep')"
   ]
  },
  {
   "cell_type": "code",
   "execution_count": 4,
   "metadata": {},
   "outputs": [
    {
     "data": {
      "text/html": "<div>\n<style scoped>\n    .dataframe tbody tr th:only-of-type {\n        vertical-align: middle;\n    }\n\n    .dataframe tbody tr th {\n        vertical-align: top;\n    }\n\n    .dataframe thead th {\n        text-align: right;\n    }\n</style>\n<table border=\"1\" class=\"dataframe\">\n  <thead>\n    <tr style=\"text-align: right;\">\n      <th></th>\n      <th>date</th>\n      <th>year</th>\n      <th>month</th>\n      <th>location</th>\n      <th>country</th>\n      <th>sector</th>\n      <th>operator</th>\n      <th>manufacturer</th>\n      <th>type</th>\n      <th>aboard</th>\n      <th>fatalities</th>\n      <th>fatality_pct</th>\n      <th>ground</th>\n      <th>summary</th>\n    </tr>\n  </thead>\n  <tbody>\n    <tr>\n      <th>3808</th>\n      <td>1988-11-18</td>\n      <td>1988</td>\n      <td>November</td>\n      <td>Montluçon, France</td>\n      <td>France</td>\n      <td>Civilian</td>\n      <td>Air Littoral</td>\n      <td>Swearingen</td>\n      <td>Swearingen SA-226TC Metro II</td>\n      <td>4</td>\n      <td>4</td>\n      <td>1.000000</td>\n      <td>0</td>\n      <td>While taking off the nose pitched down the pla...</td>\n    </tr>\n    <tr>\n      <th>1078</th>\n      <td>1950-09-14</td>\n      <td>1950</td>\n      <td>September</td>\n      <td>Tehran, Iran</td>\n      <td>Iran</td>\n      <td>Civilian</td>\n      <td>Iran Air</td>\n      <td>Douglas</td>\n      <td>Douglas DC-3</td>\n      <td>8</td>\n      <td>8</td>\n      <td>1.000000</td>\n      <td>0</td>\n      <td>Crashed during takeoff.</td>\n    </tr>\n    <tr>\n      <th>1444</th>\n      <td>1956-10-19</td>\n      <td>1956</td>\n      <td>October</td>\n      <td>Agartala, India</td>\n      <td>India</td>\n      <td>Civilian</td>\n      <td>Indian Airlines</td>\n      <td>Douglas</td>\n      <td>Douglas DC-3</td>\n      <td>3</td>\n      <td>3</td>\n      <td>1.000000</td>\n      <td>0</td>\n      <td>The cargo plane crashed after an attempted go-...</td>\n    </tr>\n    <tr>\n      <th>790</th>\n      <td>1946-08-07</td>\n      <td>1946</td>\n      <td>August</td>\n      <td>Oslo, Norway</td>\n      <td>Norway</td>\n      <td>Civilian</td>\n      <td>British European Airways</td>\n      <td>Douglas</td>\n      <td>Douglas C-47A-10-DK</td>\n      <td>16</td>\n      <td>3</td>\n      <td>0.187500</td>\n      <td>0</td>\n      <td>Flew into trees on Mistberget mountain at 2,00...</td>\n    </tr>\n    <tr>\n      <th>2351</th>\n      <td>1969-10-03</td>\n      <td>1969</td>\n      <td>October</td>\n      <td>Denver, Colorado</td>\n      <td>United States</td>\n      <td>Civilian</td>\n      <td>Metro Commuter - Air Taxi</td>\n      <td>Beechcraft</td>\n      <td>Beechcraft 65-B80</td>\n      <td>5</td>\n      <td>5</td>\n      <td>1.000000</td>\n      <td>0</td>\n      <td>Crash landed off of airport. Engine failure. I...</td>\n    </tr>\n    <tr>\n      <th>347</th>\n      <td>1935-01-31</td>\n      <td>1935</td>\n      <td>January</td>\n      <td>Stettin, Germany</td>\n      <td>Germany</td>\n      <td>Civilian</td>\n      <td>Deruluft</td>\n      <td>Junkers</td>\n      <td>Junkers JU-52/3m</td>\n      <td>11</td>\n      <td>11</td>\n      <td>1.000000</td>\n      <td>0</td>\n      <td>Crashed full speed into a hill, 450 feet high ...</td>\n    </tr>\n    <tr>\n      <th>3415</th>\n      <td>1983-04-30</td>\n      <td>1983</td>\n      <td>April</td>\n      <td>Jacksonville, Florida</td>\n      <td>United States</td>\n      <td>Military</td>\n      <td>Military - United States Navy</td>\n      <td>Convair</td>\n      <td>Convair CV-340</td>\n      <td>15</td>\n      <td>14</td>\n      <td>0.933333</td>\n      <td>0</td>\n      <td>Crashed into St. John's River just shy of the ...</td>\n    </tr>\n    <tr>\n      <th>2026</th>\n      <td>1966-01-15</td>\n      <td>1966</td>\n      <td>January</td>\n      <td>Off Cartagena, Colombia</td>\n      <td>Colombia</td>\n      <td>Civilian</td>\n      <td>AVIANCA</td>\n      <td>Douglas</td>\n      <td>Douglas DC-6-54B</td>\n      <td>64</td>\n      <td>56</td>\n      <td>0.875000</td>\n      <td>0</td>\n      <td>Crashed shortly after taking off. The plane ro...</td>\n    </tr>\n    <tr>\n      <th>2292</th>\n      <td>1969-02-05</td>\n      <td>1969</td>\n      <td>February</td>\n      <td>Port Angeles, Washington</td>\n      <td>United States</td>\n      <td>Civilian</td>\n      <td>Pudget Sound Air - Air Taxi</td>\n      <td>Beechcraft</td>\n      <td>Beechcraft C-45H</td>\n      <td>10</td>\n      <td>10</td>\n      <td>1.000000</td>\n      <td>0</td>\n      <td>The plane crashed after a premature liftoff fo...</td>\n    </tr>\n    <tr>\n      <th>3663</th>\n      <td>1987-01-03</td>\n      <td>1987</td>\n      <td>January</td>\n      <td>Abidjan, Ivory Coast</td>\n      <td>Ivory Coast</td>\n      <td>Civilian</td>\n      <td>Varig</td>\n      <td>Boeing</td>\n      <td>Boeing B-707-379C</td>\n      <td>51</td>\n      <td>50</td>\n      <td>0.980392</td>\n      <td>0</td>\n      <td>The plane crashed in the jungle while returnin...</td>\n    </tr>\n  </tbody>\n</table>\n</div>",
      "text/plain": "           date  year      month                  location        country  \\\n3808 1988-11-18  1988   November         Montluçon, France         France   \n1078 1950-09-14  1950  September              Tehran, Iran           Iran   \n1444 1956-10-19  1956    October           Agartala, India          India   \n790  1946-08-07  1946     August              Oslo, Norway         Norway   \n2351 1969-10-03  1969    October          Denver, Colorado  United States   \n347  1935-01-31  1935    January          Stettin, Germany        Germany   \n3415 1983-04-30  1983      April     Jacksonville, Florida  United States   \n2026 1966-01-15  1966    January   Off Cartagena, Colombia       Colombia   \n2292 1969-02-05  1969   February  Port Angeles, Washington  United States   \n3663 1987-01-03  1987    January      Abidjan, Ivory Coast    Ivory Coast   \n\n        sector                       operator manufacturer  \\\n3808  Civilian                   Air Littoral   Swearingen   \n1078  Civilian                       Iran Air      Douglas   \n1444  Civilian                Indian Airlines      Douglas   \n790   Civilian       British European Airways      Douglas   \n2351  Civilian      Metro Commuter - Air Taxi   Beechcraft   \n347   Civilian                       Deruluft      Junkers   \n3415  Military  Military - United States Navy      Convair   \n2026  Civilian                        AVIANCA      Douglas   \n2292  Civilian    Pudget Sound Air - Air Taxi   Beechcraft   \n3663  Civilian                          Varig       Boeing   \n\n                              type  aboard  fatalities  fatality_pct  ground  \\\n3808  Swearingen SA-226TC Metro II       4           4      1.000000       0   \n1078                  Douglas DC-3       8           8      1.000000       0   \n1444                  Douglas DC-3       3           3      1.000000       0   \n790            Douglas C-47A-10-DK      16           3      0.187500       0   \n2351             Beechcraft 65-B80       5           5      1.000000       0   \n347               Junkers JU-52/3m      11          11      1.000000       0   \n3415                Convair CV-340      15          14      0.933333       0   \n2026              Douglas DC-6-54B      64          56      0.875000       0   \n2292              Beechcraft C-45H      10          10      1.000000       0   \n3663             Boeing B-707-379C      51          50      0.980392       0   \n\n                                                summary  \n3808  While taking off the nose pitched down the pla...  \n1078                            Crashed during takeoff.  \n1444  The cargo plane crashed after an attempted go-...  \n790   Flew into trees on Mistberget mountain at 2,00...  \n2351  Crash landed off of airport. Engine failure. I...  \n347   Crashed full speed into a hill, 450 feet high ...  \n3415  Crashed into St. John's River just shy of the ...  \n2026  Crashed shortly after taking off. The plane ro...  \n2292  The plane crashed after a premature liftoff fo...  \n3663  The plane crashed in the jungle while returnin...  "
     },
     "execution_count": 4,
     "metadata": {},
     "output_type": "execute_result"
    }
   ],
   "source": [
    "df.sample(10)"
   ]
  },
  {
   "cell_type": "markdown",
   "metadata": {},
   "source": [
    "## Data Cleaning\n",
    "\n",
    "So you'll see we now have a cleaned up version of the raw data when I pass `clean = True` to the `load` method of the `Data` class. If you're interested, this is all implemented in `src/data/load_data.py`.\n",
    "\n",
    "Basic summary of the cleaning steps:\n",
    "\n",
    "* Dropped a few columns:\n",
    "    * `Flight #` - I didn't really see any gainful insights coming from this one, essentially just random numbers generated by the airline\n",
    "    * `Registration` - Similar thing. This is the aircraft's registration number e.g. G-EGHG.\n",
    "    * `cn/In` - Same as registration, this refers to the aircraft's airframe ID or model number.\n",
    "    * `Route` - Initially I wanted to keep this to see if any one route is particularly hazardous etc. but on some scratchpad analysis it seemed there were just too many distinct values to really learn anything.\n",
    "    * `Time` - This is the one I'm most sad about losing. I strongly suspect that accidents at night time are more common than during the day. But there were lots of missing values and I couldn't get it to play nicely in my cleaning pipeline with pandas datetime parsing. It ended up parsing the date correctly but then because the time was `NaN` the whole thing would get cast to an object. If anyone knows a good way of handling this let me know!\n",
    "\n",
    "* Did some basic formatting and tidying i.e. stripping any whitespace from text, dropped any remaining `NaNs`\n",
    "\n",
    "* Extracted some features like `year`, `month`, `country`, whether it was a military or commercial flight etc.\n",
    "\n",
    "* Grouped some countries for example, the country extractor would return names of US states, so I wrote a method to group them under `United States`. Similarly grouped `USSR` and `Russia` as well as grouping lots of misspelled versions of `Atlantic Ocean` and `Pacific Ocean`.\n",
    "\n",
    "* And finally, reordered the columns to satisfy my OCD!"
   ]
  },
  {
   "cell_type": "markdown",
   "metadata": {},
   "source": [
    "## EDA\n",
    "\n",
    "Let's get into it!\n",
    "\n",
    "I'm going to start with my favourite auto-data-magic-summariser... pandas-profiling. I usually do this at the start of an EDA and keep it around to refer back to.\n",
    "\n",
    "I also basically exclusively use [Altair](https://altair-viz.github.io) for visualisations like this. I love its declarative grammar, you just initialise a chart and pipe everything into it and I've yet to run into something I couldn't do."
   ]
  },
  {
   "cell_type": "code",
   "execution_count": 5,
   "metadata": {},
   "outputs": [],
   "source": [
    "# ProfileReport(df)"
   ]
  },
  {
   "cell_type": "markdown",
   "metadata": {},
   "source": [
    "Let's start by finding out the top 10 most dangerous countries to fly in..."
   ]
  },
  {
   "cell_type": "code",
   "execution_count": 6,
   "metadata": {},
   "outputs": [
    {
     "data": {
      "text/html": "\n<div id=\"altair-viz-4f15b39b0a4b4bcda90e4ad5ca9e809b\"></div>\n<script type=\"text/javascript\">\n  (function(spec, embedOpt){\n    let outputDiv = document.currentScript.previousElementSibling;\n    if (outputDiv.id !== \"altair-viz-4f15b39b0a4b4bcda90e4ad5ca9e809b\") {\n      outputDiv = document.getElementById(\"altair-viz-4f15b39b0a4b4bcda90e4ad5ca9e809b\");\n    }\n    const paths = {\n      \"vega\": \"https://cdn.jsdelivr.net/npm//vega@5?noext\",\n      \"vega-lib\": \"https://cdn.jsdelivr.net/npm//vega-lib?noext\",\n      \"vega-lite\": \"https://cdn.jsdelivr.net/npm//vega-lite@4.8.1?noext\",\n      \"vega-embed\": \"https://cdn.jsdelivr.net/npm//vega-embed@6?noext\",\n    };\n\n    function loadScript(lib) {\n      return new Promise(function(resolve, reject) {\n        var s = document.createElement('script');\n        s.src = paths[lib];\n        s.async = true;\n        s.onload = () => resolve(paths[lib]);\n        s.onerror = () => reject(`Error loading script: ${paths[lib]}`);\n        document.getElementsByTagName(\"head\")[0].appendChild(s);\n      });\n    }\n\n    function showError(err) {\n      outputDiv.innerHTML = `<div class=\"error\" style=\"color:red;\">${err}</div>`;\n      throw err;\n    }\n\n    function displayChart(vegaEmbed) {\n      vegaEmbed(outputDiv, spec, embedOpt)\n        .catch(err => showError(`Javascript Error: ${err.message}<br>This usually means there's a typo in your chart specification. See the javascript console for the full traceback.`));\n    }\n\n    if(typeof define === \"function\" && define.amd) {\n      requirejs.config({paths});\n      require([\"vega-embed\"], displayChart, err => showError(`Error loading script: ${err.message}`));\n    } else if (typeof vegaEmbed === \"function\") {\n      displayChart(vegaEmbed);\n    } else {\n      loadScript(\"vega\")\n        .then(() => loadScript(\"vega-lite\"))\n        .then(() => loadScript(\"vega-embed\"))\n        .catch(showError)\n        .then(() => displayChart(vegaEmbed));\n    }\n  })({\"config\": {\"view\": {\"continuousWidth\": 400, \"continuousHeight\": 300}, \"axisX\": {\"labelAngle\": -40}}, \"data\": {\"url\": \"http://localhost:17490/4224548cfde0d1fff98d1a8d37e18a64.json\"}, \"mark\": \"bar\", \"encoding\": {\"tooltip\": [{\"type\": \"nominal\", \"field\": \"country\"}, {\"type\": \"quantitative\", \"field\": \"fatalities\"}], \"x\": {\"type\": \"nominal\", \"field\": \"country\", \"sort\": \"-y\", \"title\": \"Country\"}, \"y\": {\"type\": \"quantitative\", \"field\": \"fatalities\", \"title\": \"Total Fatalities\"}}, \"height\": 500, \"title\": \"Total Fatalities by Country (Top 10)\", \"width\": 750, \"$schema\": \"https://vega.github.io/schema/vega-lite/v4.8.1.json\"}, {\"mode\": \"vega-lite\"});\n</script>",
      "text/plain": "alt.Chart(...)"
     },
     "execution_count": 6,
     "metadata": {},
     "output_type": "execute_result"
    }
   ],
   "source": [
    "(alt.Chart(df.groupby(by = \"country\")[[\"fatalities\"]].sum().nlargest(10, \"fatalities\").reset_index())\n",
    ".mark_bar()\n",
    ".encode(\n",
    "    x = alt.X(\"country:N\", title = \"Country\", sort = \"-y\",),\n",
    "    y = alt.Y(\"fatalities:Q\", title = \"Total Fatalities\"),\n",
    "    tooltip = [\"country\", \"fatalities\"],\n",
    ").properties(\n",
    "    title = \"Total Fatalities by Country (Top 10)\",\n",
    "    height = 500,\n",
    "    width = 750\n",
    ").configure_axisX(\n",
    "    labelAngle = -40\n",
    "))"
   ]
  },
  {
   "cell_type": "markdown",
   "metadata": {},
   "source": [
    "Wow, the US does not come off well here. This could be real, however it could also be anything like:\n",
    "\n",
    "* The data was collected from a source in the US enabling more easy data collection for domestic accidents\n",
    "* The population of the US regularly travelling by air is likely to be high compared to the other countries. What we should really look at if we want to determine liklihood of crash fatality is the fatalities divided by the flying population.\n",
    "\n",
    "Let's instead look at the ratio of fatalities to total number of accidents.\n",
    "\n",
    "A quick look at the value counts reveals that the US has far more accidents on record. Again, this could be a real observation or an artifact discussed above."
   ]
  },
  {
   "cell_type": "code",
   "execution_count": 7,
   "metadata": {},
   "outputs": [
    {
     "data": {
      "text/plain": "United States                1334\nRussia                        216\nBrazil                        173\nColombia                      140\nCanada                        138\n                             ... \nNetherlands Indies              1\nNew York (Idlewild)             1\nNorthern Afghanistan            1\nNorthern India                  1\n110 miles West of Ireland       1\nName: country, Length: 412, dtype: int64"
     },
     "execution_count": 7,
     "metadata": {},
     "output_type": "execute_result"
    }
   ],
   "source": [
    "df['country'].value_counts()"
   ]
  },
  {
   "cell_type": "code",
   "execution_count": 8,
   "metadata": {},
   "outputs": [],
   "source": [
    "top_10 = set([\"United States\", \"Russia\", \"Brazil\", \"Colombia\", \"France\", \"India\", \"Japan\", \"Indonesia\", \"China\", \"Canada\"])\n",
    "top_10_df = df[df[\"country\"].isin(top_10)]"
   ]
  },
  {
   "cell_type": "code",
   "execution_count": 9,
   "metadata": {},
   "outputs": [
    {
     "data": {
      "text/html": "<div>\n<style scoped>\n    .dataframe tbody tr th:only-of-type {\n        vertical-align: middle;\n    }\n\n    .dataframe tbody tr th {\n        vertical-align: top;\n    }\n\n    .dataframe thead th {\n        text-align: right;\n    }\n</style>\n<table border=\"1\" class=\"dataframe\">\n  <thead>\n    <tr style=\"text-align: right;\">\n      <th></th>\n      <th>year</th>\n      <th>aboard</th>\n      <th>fatalities</th>\n      <th>fatality_pct</th>\n      <th>ground</th>\n    </tr>\n    <tr>\n      <th>country</th>\n      <th></th>\n      <th></th>\n      <th></th>\n      <th></th>\n      <th></th>\n    </tr>\n  </thead>\n  <tbody>\n    <tr>\n      <th>Colombia</th>\n      <td>1978.628571</td>\n      <td>22.550000</td>\n      <td>20.328571</td>\n      <td>0.873064</td>\n      <td>0.292857</td>\n    </tr>\n    <tr>\n      <th>India</th>\n      <td>1967.054348</td>\n      <td>34.423913</td>\n      <td>27.695652</td>\n      <td>0.867188</td>\n      <td>0.869565</td>\n    </tr>\n    <tr>\n      <th>Russia</th>\n      <td>1981.824074</td>\n      <td>50.416667</td>\n      <td>42.004630</td>\n      <td>0.867038</td>\n      <td>0.268519</td>\n    </tr>\n    <tr>\n      <th>Japan</th>\n      <td>1968.463415</td>\n      <td>74.390244</td>\n      <td>48.902439</td>\n      <td>0.866045</td>\n      <td>0.048780</td>\n    </tr>\n    <tr>\n      <th>France</th>\n      <td>1958.907407</td>\n      <td>29.925926</td>\n      <td>24.277778</td>\n      <td>0.848833</td>\n      <td>0.259259</td>\n    </tr>\n    <tr>\n      <th>United States</th>\n      <td>1971.595202</td>\n      <td>18.888306</td>\n      <td>12.025487</td>\n      <td>0.835286</td>\n      <td>4.334333</td>\n    </tr>\n    <tr>\n      <th>Brazil</th>\n      <td>1972.942197</td>\n      <td>25.011561</td>\n      <td>17.826590</td>\n      <td>0.792493</td>\n      <td>0.410405</td>\n    </tr>\n    <tr>\n      <th>Canada</th>\n      <td>1976.971014</td>\n      <td>19.775362</td>\n      <td>13.224638</td>\n      <td>0.783645</td>\n      <td>0.108696</td>\n    </tr>\n    <tr>\n      <th>China</th>\n      <td>1965.044118</td>\n      <td>41.191176</td>\n      <td>27.838235</td>\n      <td>0.749167</td>\n      <td>0.661765</td>\n    </tr>\n    <tr>\n      <th>Indonesia</th>\n      <td>1989.337500</td>\n      <td>37.962500</td>\n      <td>24.862500</td>\n      <td>0.735071</td>\n      <td>0.625000</td>\n    </tr>\n  </tbody>\n</table>\n</div>",
      "text/plain": "                      year     aboard  fatalities  fatality_pct    ground\ncountry                                                                  \nColombia       1978.628571  22.550000   20.328571      0.873064  0.292857\nIndia          1967.054348  34.423913   27.695652      0.867188  0.869565\nRussia         1981.824074  50.416667   42.004630      0.867038  0.268519\nJapan          1968.463415  74.390244   48.902439      0.866045  0.048780\nFrance         1958.907407  29.925926   24.277778      0.848833  0.259259\nUnited States  1971.595202  18.888306   12.025487      0.835286  4.334333\nBrazil         1972.942197  25.011561   17.826590      0.792493  0.410405\nCanada         1976.971014  19.775362   13.224638      0.783645  0.108696\nChina          1965.044118  41.191176   27.838235      0.749167  0.661765\nIndonesia      1989.337500  37.962500   24.862500      0.735071  0.625000"
     },
     "execution_count": 9,
     "metadata": {},
     "output_type": "execute_result"
    }
   ],
   "source": [
    "top_10_df.groupby(\"country\").mean().sort_values(by=\"fatality_pct\", ascending = False).dropna()"
   ]
  },
  {
   "cell_type": "code",
   "execution_count": 10,
   "metadata": {},
   "outputs": [
    {
     "data": {
      "text/html": "\n<div id=\"altair-viz-d28daab5210f45ba81d8fd4c3625b005\"></div>\n<script type=\"text/javascript\">\n  (function(spec, embedOpt){\n    let outputDiv = document.currentScript.previousElementSibling;\n    if (outputDiv.id !== \"altair-viz-d28daab5210f45ba81d8fd4c3625b005\") {\n      outputDiv = document.getElementById(\"altair-viz-d28daab5210f45ba81d8fd4c3625b005\");\n    }\n    const paths = {\n      \"vega\": \"https://cdn.jsdelivr.net/npm//vega@5?noext\",\n      \"vega-lib\": \"https://cdn.jsdelivr.net/npm//vega-lib?noext\",\n      \"vega-lite\": \"https://cdn.jsdelivr.net/npm//vega-lite@4.8.1?noext\",\n      \"vega-embed\": \"https://cdn.jsdelivr.net/npm//vega-embed@6?noext\",\n    };\n\n    function loadScript(lib) {\n      return new Promise(function(resolve, reject) {\n        var s = document.createElement('script');\n        s.src = paths[lib];\n        s.async = true;\n        s.onload = () => resolve(paths[lib]);\n        s.onerror = () => reject(`Error loading script: ${paths[lib]}`);\n        document.getElementsByTagName(\"head\")[0].appendChild(s);\n      });\n    }\n\n    function showError(err) {\n      outputDiv.innerHTML = `<div class=\"error\" style=\"color:red;\">${err}</div>`;\n      throw err;\n    }\n\n    function displayChart(vegaEmbed) {\n      vegaEmbed(outputDiv, spec, embedOpt)\n        .catch(err => showError(`Javascript Error: ${err.message}<br>This usually means there's a typo in your chart specification. See the javascript console for the full traceback.`));\n    }\n\n    if(typeof define === \"function\" && define.amd) {\n      requirejs.config({paths});\n      require([\"vega-embed\"], displayChart, err => showError(`Error loading script: ${err.message}`));\n    } else if (typeof vegaEmbed === \"function\") {\n      displayChart(vegaEmbed);\n    } else {\n      loadScript(\"vega\")\n        .then(() => loadScript(\"vega-lite\"))\n        .then(() => loadScript(\"vega-embed\"))\n        .catch(showError)\n        .then(() => displayChart(vegaEmbed));\n    }\n  })({\"config\": {\"view\": {\"continuousWidth\": 400, \"continuousHeight\": 300}, \"axisX\": {\"labelAngle\": -40}}, \"data\": {\"url\": \"http://localhost:17490/16bac85bbe820b175a1baf2f2df19fd6.json\"}, \"mark\": \"bar\", \"encoding\": {\"x\": {\"type\": \"nominal\", \"field\": \"country\", \"sort\": \"-y\", \"title\": \"Country\"}, \"y\": {\"type\": \"quantitative\", \"axis\": {\"format\": \"%\"}, \"field\": \"fatality_pct\", \"title\": \"Crash Fatality Rate\"}}, \"height\": 500, \"title\": \"Mean Crash Fatality Rate by Country\", \"width\": 750, \"$schema\": \"https://vega.github.io/schema/vega-lite/v4.8.1.json\"}, {\"mode\": \"vega-lite\"});\n</script>",
      "text/plain": "alt.Chart(...)"
     },
     "execution_count": 10,
     "metadata": {},
     "output_type": "execute_result"
    }
   ],
   "source": [
    "alt.Chart(top_10_df.groupby(\"country\").mean().sort_values(by=\"fatality_pct\", ascending = False).dropna().reset_index()).mark_bar().encode(\n",
    "    x = alt.X(\"country:N\", title = \"Country\", sort = \"-y\"),\n",
    "    y = alt.Y(\"fatality_pct:Q\", title = \"Crash Fatality Rate\", axis = alt.Axis(format = \"%\"))\n",
    ").properties(\n",
    "    title = \"Mean Crash Fatality Rate by Country\",\n",
    "    height = 500,\n",
    "    width = 750\n",
    ").configure_axisX(\n",
    "    labelAngle = -40\n",
    ")"
   ]
  },
  {
   "cell_type": "code",
   "execution_count": 11,
   "metadata": {},
   "outputs": [
    {
     "data": {
      "text/html": "\n<div id=\"altair-viz-e675192aff0741a799bbdf899b944d22\"></div>\n<script type=\"text/javascript\">\n  (function(spec, embedOpt){\n    let outputDiv = document.currentScript.previousElementSibling;\n    if (outputDiv.id !== \"altair-viz-e675192aff0741a799bbdf899b944d22\") {\n      outputDiv = document.getElementById(\"altair-viz-e675192aff0741a799bbdf899b944d22\");\n    }\n    const paths = {\n      \"vega\": \"https://cdn.jsdelivr.net/npm//vega@5?noext\",\n      \"vega-lib\": \"https://cdn.jsdelivr.net/npm//vega-lib?noext\",\n      \"vega-lite\": \"https://cdn.jsdelivr.net/npm//vega-lite@4.8.1?noext\",\n      \"vega-embed\": \"https://cdn.jsdelivr.net/npm//vega-embed@6?noext\",\n    };\n\n    function loadScript(lib) {\n      return new Promise(function(resolve, reject) {\n        var s = document.createElement('script');\n        s.src = paths[lib];\n        s.async = true;\n        s.onload = () => resolve(paths[lib]);\n        s.onerror = () => reject(`Error loading script: ${paths[lib]}`);\n        document.getElementsByTagName(\"head\")[0].appendChild(s);\n      });\n    }\n\n    function showError(err) {\n      outputDiv.innerHTML = `<div class=\"error\" style=\"color:red;\">${err}</div>`;\n      throw err;\n    }\n\n    function displayChart(vegaEmbed) {\n      vegaEmbed(outputDiv, spec, embedOpt)\n        .catch(err => showError(`Javascript Error: ${err.message}<br>This usually means there's a typo in your chart specification. See the javascript console for the full traceback.`));\n    }\n\n    if(typeof define === \"function\" && define.amd) {\n      requirejs.config({paths});\n      require([\"vega-embed\"], displayChart, err => showError(`Error loading script: ${err.message}`));\n    } else if (typeof vegaEmbed === \"function\") {\n      displayChart(vegaEmbed);\n    } else {\n      loadScript(\"vega\")\n        .then(() => loadScript(\"vega-lite\"))\n        .then(() => loadScript(\"vega-embed\"))\n        .catch(showError)\n        .then(() => displayChart(vegaEmbed));\n    }\n  })({\"config\": {\"view\": {\"continuousWidth\": 400, \"continuousHeight\": 300}, \"axisX\": {\"labelAngle\": -40}}, \"data\": {\"url\": \"http://localhost:17490/9d0dc1d909a7ca9748555bdf2a905d12.json\"}, \"mark\": {\"type\": \"bar\", \"opacity\": 0.4}, \"encoding\": {\"color\": {\"type\": \"nominal\", \"field\": \"sector\", \"title\": \"Sector\"}, \"x\": {\"type\": \"nominal\", \"field\": \"month\", \"sort\": [\"January\", \"February\", \"March\", \"April\", \"May\", \"June\", \"July\", \"August\", \"September\", \"October\", \"November\", \"December\"], \"title\": \"Month\"}, \"y\": {\"type\": \"quantitative\", \"aggregate\": \"sum\", \"field\": \"fatalities\", \"stack\": null, \"title\": \"Total Fatalities\"}}, \"height\": 500, \"title\": \"Total Fatalities by Month\", \"width\": 750, \"$schema\": \"https://vega.github.io/schema/vega-lite/v4.8.1.json\"}, {\"mode\": \"vega-lite\"});\n</script>",
      "text/plain": "alt.Chart(...)"
     },
     "execution_count": 11,
     "metadata": {},
     "output_type": "execute_result"
    }
   ],
   "source": [
    "month_order = [\n",
    "    \"January\",\n",
    "    \"February\",\n",
    "    \"March\",\n",
    "    \"April\",\n",
    "    \"May\",\n",
    "    \"June\",\n",
    "    \"July\",\n",
    "    \"August\",\n",
    "    \"September\",\n",
    "    \"October\",\n",
    "    \"November\",\n",
    "    \"December\",\n",
    "]\n",
    "\n",
    "alt.Chart(df).mark_bar(opacity = 0.4).encode(\n",
    "    x = alt.X(\"month:N\", title = \"Month\", sort = month_order),\n",
    "    y = alt.Y(\"sum(fatalities):Q\", title = \"Total Fatalities\", stack = None),\n",
    "    color = alt.Color(\"sector:N\", title = \"Sector\")\n",
    ").properties(\n",
    "    title = \"Total Fatalities by Month\",\n",
    "    height = 500,\n",
    "    width = 750\n",
    ").configure_axisX(\n",
    "    labelAngle = -40\n",
    ")"
   ]
  },
  {
   "cell_type": "code",
   "execution_count": 12,
   "metadata": {},
   "outputs": [
    {
     "data": {
      "text/html": "\n<div id=\"altair-viz-76a8055fddc1494f9da625b4b2d84e85\"></div>\n<script type=\"text/javascript\">\n  (function(spec, embedOpt){\n    let outputDiv = document.currentScript.previousElementSibling;\n    if (outputDiv.id !== \"altair-viz-76a8055fddc1494f9da625b4b2d84e85\") {\n      outputDiv = document.getElementById(\"altair-viz-76a8055fddc1494f9da625b4b2d84e85\");\n    }\n    const paths = {\n      \"vega\": \"https://cdn.jsdelivr.net/npm//vega@5?noext\",\n      \"vega-lib\": \"https://cdn.jsdelivr.net/npm//vega-lib?noext\",\n      \"vega-lite\": \"https://cdn.jsdelivr.net/npm//vega-lite@4.8.1?noext\",\n      \"vega-embed\": \"https://cdn.jsdelivr.net/npm//vega-embed@6?noext\",\n    };\n\n    function loadScript(lib) {\n      return new Promise(function(resolve, reject) {\n        var s = document.createElement('script');\n        s.src = paths[lib];\n        s.async = true;\n        s.onload = () => resolve(paths[lib]);\n        s.onerror = () => reject(`Error loading script: ${paths[lib]}`);\n        document.getElementsByTagName(\"head\")[0].appendChild(s);\n      });\n    }\n\n    function showError(err) {\n      outputDiv.innerHTML = `<div class=\"error\" style=\"color:red;\">${err}</div>`;\n      throw err;\n    }\n\n    function displayChart(vegaEmbed) {\n      vegaEmbed(outputDiv, spec, embedOpt)\n        .catch(err => showError(`Javascript Error: ${err.message}<br>This usually means there's a typo in your chart specification. See the javascript console for the full traceback.`));\n    }\n\n    if(typeof define === \"function\" && define.amd) {\n      requirejs.config({paths});\n      require([\"vega-embed\"], displayChart, err => showError(`Error loading script: ${err.message}`));\n    } else if (typeof vegaEmbed === \"function\") {\n      displayChart(vegaEmbed);\n    } else {\n      loadScript(\"vega\")\n        .then(() => loadScript(\"vega-lite\"))\n        .then(() => loadScript(\"vega-embed\"))\n        .catch(showError)\n        .then(() => displayChart(vegaEmbed));\n    }\n  })({\"config\": {\"view\": {\"continuousWidth\": 400, \"continuousHeight\": 300}}, \"data\": {\"url\": \"http://localhost:17490/9d0dc1d909a7ca9748555bdf2a905d12.json\"}, \"mark\": {\"type\": \"line\", \"interpolate\": \"basis\"}, \"encoding\": {\"color\": {\"type\": \"nominal\", \"field\": \"sector\", \"title\": \"Sector\"}, \"x\": {\"type\": \"temporal\", \"field\": \"date\", \"timeUnit\": \"year\", \"title\": \"Year\"}, \"y\": {\"type\": \"quantitative\", \"aggregate\": \"mean\", \"axis\": {\"format\": \"%\"}, \"field\": \"fatality_pct\", \"title\": \"Fatality Rate\"}}, \"height\": 500, \"title\": \"Crash Fatality Rate by Year and Sector\", \"width\": 750, \"$schema\": \"https://vega.github.io/schema/vega-lite/v4.8.1.json\"}, {\"mode\": \"vega-lite\"});\n</script>",
      "text/plain": "alt.Chart(...)"
     },
     "execution_count": 12,
     "metadata": {},
     "output_type": "execute_result"
    }
   ],
   "source": [
    "chart = (alt.Chart(df).mark_line(interpolate=\"basis\").encode(\n",
    "    x = alt.X(\"year(date):T\", title = \"Year\"),\n",
    "    y = alt.Y(\"mean(fatality_pct):Q\", title = \"Fatality Rate\", axis=alt.Axis(format=\"%\")),\n",
    "    color = alt.Color(\"sector:N\", title = \"Sector\")\n",
    ").properties(\n",
    "    title = \"Crash Fatality Rate by Year and Sector\",\n",
    "    width = 750,\n",
    "    height = 500\n",
    "))\n",
    "\n",
    "chart"
   ]
  },
  {
   "cell_type": "code",
   "execution_count": 13,
   "metadata": {},
   "outputs": [
    {
     "data": {
      "text/html": "\n<div id=\"altair-viz-ea3e61628f51408fa4c7090ff89d80a1\"></div>\n<script type=\"text/javascript\">\n  (function(spec, embedOpt){\n    let outputDiv = document.currentScript.previousElementSibling;\n    if (outputDiv.id !== \"altair-viz-ea3e61628f51408fa4c7090ff89d80a1\") {\n      outputDiv = document.getElementById(\"altair-viz-ea3e61628f51408fa4c7090ff89d80a1\");\n    }\n    const paths = {\n      \"vega\": \"https://cdn.jsdelivr.net/npm//vega@5?noext\",\n      \"vega-lib\": \"https://cdn.jsdelivr.net/npm//vega-lib?noext\",\n      \"vega-lite\": \"https://cdn.jsdelivr.net/npm//vega-lite@4.8.1?noext\",\n      \"vega-embed\": \"https://cdn.jsdelivr.net/npm//vega-embed@6?noext\",\n    };\n\n    function loadScript(lib) {\n      return new Promise(function(resolve, reject) {\n        var s = document.createElement('script');\n        s.src = paths[lib];\n        s.async = true;\n        s.onload = () => resolve(paths[lib]);\n        s.onerror = () => reject(`Error loading script: ${paths[lib]}`);\n        document.getElementsByTagName(\"head\")[0].appendChild(s);\n      });\n    }\n\n    function showError(err) {\n      outputDiv.innerHTML = `<div class=\"error\" style=\"color:red;\">${err}</div>`;\n      throw err;\n    }\n\n    function displayChart(vegaEmbed) {\n      vegaEmbed(outputDiv, spec, embedOpt)\n        .catch(err => showError(`Javascript Error: ${err.message}<br>This usually means there's a typo in your chart specification. See the javascript console for the full traceback.`));\n    }\n\n    if(typeof define === \"function\" && define.amd) {\n      requirejs.config({paths});\n      require([\"vega-embed\"], displayChart, err => showError(`Error loading script: ${err.message}`));\n    } else if (typeof vegaEmbed === \"function\") {\n      displayChart(vegaEmbed);\n    } else {\n      loadScript(\"vega\")\n        .then(() => loadScript(\"vega-lite\"))\n        .then(() => loadScript(\"vega-embed\"))\n        .catch(showError)\n        .then(() => displayChart(vegaEmbed));\n    }\n  })({\"config\": {\"view\": {\"continuousWidth\": 400, \"continuousHeight\": 300}}, \"data\": {\"url\": \"http://localhost:17490/9d0dc1d909a7ca9748555bdf2a905d12.json\"}, \"mark\": {\"type\": \"bar\", \"opacity\": 0.6}, \"encoding\": {\"color\": {\"type\": \"nominal\", \"field\": \"sector\", \"title\": \"Sector\"}, \"x\": {\"type\": \"quantitative\", \"bin\": {\"maxbins\": 10}, \"field\": \"fatality_pct\", \"title\": \"Crash Fatality Rate\"}, \"y\": {\"type\": \"quantitative\", \"aggregate\": \"count\", \"stack\": null}}, \"height\": 500, \"title\": \"Crash Fatality Rate Histogram\", \"width\": 750, \"$schema\": \"https://vega.github.io/schema/vega-lite/v4.8.1.json\"}, {\"mode\": \"vega-lite\"});\n</script>",
      "text/plain": "alt.Chart(...)"
     },
     "execution_count": 13,
     "metadata": {},
     "output_type": "execute_result"
    }
   ],
   "source": [
    "alt.Chart(df).mark_bar(opacity = 0.6).encode(\n",
    "    x = alt.X(\"fatality_pct:Q\", title = \"Crash Fatality Rate\", bin = alt.Bin(maxbins=10)),\n",
    "    y = alt.Y(\"count()\", stack = None),\n",
    "    color = alt.Color(\"sector:N\", title = \"Sector\")\n",
    ").properties(\n",
    "    title = \"Crash Fatality Rate Histogram\",\n",
    "    height = 500,\n",
    "    width = 750\n",
    ")\n"
   ]
  },
  {
   "cell_type": "code",
   "execution_count": 14,
   "metadata": {},
   "outputs": [
    {
     "data": {
      "text/html": "\n<div id=\"altair-viz-b2582a393b2d4e2dbf20be42b17a0d32\"></div>\n<script type=\"text/javascript\">\n  (function(spec, embedOpt){\n    let outputDiv = document.currentScript.previousElementSibling;\n    if (outputDiv.id !== \"altair-viz-b2582a393b2d4e2dbf20be42b17a0d32\") {\n      outputDiv = document.getElementById(\"altair-viz-b2582a393b2d4e2dbf20be42b17a0d32\");\n    }\n    const paths = {\n      \"vega\": \"https://cdn.jsdelivr.net/npm//vega@5?noext\",\n      \"vega-lib\": \"https://cdn.jsdelivr.net/npm//vega-lib?noext\",\n      \"vega-lite\": \"https://cdn.jsdelivr.net/npm//vega-lite@4.8.1?noext\",\n      \"vega-embed\": \"https://cdn.jsdelivr.net/npm//vega-embed@6?noext\",\n    };\n\n    function loadScript(lib) {\n      return new Promise(function(resolve, reject) {\n        var s = document.createElement('script');\n        s.src = paths[lib];\n        s.async = true;\n        s.onload = () => resolve(paths[lib]);\n        s.onerror = () => reject(`Error loading script: ${paths[lib]}`);\n        document.getElementsByTagName(\"head\")[0].appendChild(s);\n      });\n    }\n\n    function showError(err) {\n      outputDiv.innerHTML = `<div class=\"error\" style=\"color:red;\">${err}</div>`;\n      throw err;\n    }\n\n    function displayChart(vegaEmbed) {\n      vegaEmbed(outputDiv, spec, embedOpt)\n        .catch(err => showError(`Javascript Error: ${err.message}<br>This usually means there's a typo in your chart specification. See the javascript console for the full traceback.`));\n    }\n\n    if(typeof define === \"function\" && define.amd) {\n      requirejs.config({paths});\n      require([\"vega-embed\"], displayChart, err => showError(`Error loading script: ${err.message}`));\n    } else if (typeof vegaEmbed === \"function\") {\n      displayChart(vegaEmbed);\n    } else {\n      loadScript(\"vega\")\n        .then(() => loadScript(\"vega-lite\"))\n        .then(() => loadScript(\"vega-embed\"))\n        .catch(showError)\n        .then(() => displayChart(vegaEmbed));\n    }\n  })({\"config\": {\"view\": {\"continuousWidth\": 400, \"continuousHeight\": 300}}, \"data\": {\"url\": \"http://localhost:17490/735a80026236713c9014de6fa985fba3.json\"}, \"mark\": {\"type\": \"bar\", \"opacity\": 0.6}, \"encoding\": {\"color\": {\"type\": \"nominal\", \"field\": \"sector\", \"title\": \"Sector\"}, \"x\": {\"type\": \"quantitative\", \"bin\": {\"maxbins\": 20}, \"field\": \"fatality_pct\", \"title\": \"Crash Fatality Rate\"}, \"y\": {\"type\": \"quantitative\", \"aggregate\": \"count\", \"stack\": null}}, \"height\": 500, \"title\": \"Crash Fatality Rate Histogram (Crashes with Fatality Rate < 1)\", \"width\": 750, \"$schema\": \"https://vega.github.io/schema/vega-lite/v4.8.1.json\"}, {\"mode\": \"vega-lite\"});\n</script>",
      "text/plain": "alt.Chart(...)"
     },
     "execution_count": 14,
     "metadata": {},
     "output_type": "execute_result"
    }
   ],
   "source": [
    "alt.Chart(df[df[\"fatality_pct\"] < 1]).mark_bar(opacity = 0.6).encode(\n",
    "    x = alt.X(\"fatality_pct:Q\", title = \"Crash Fatality Rate\", bin = alt.Bin(maxbins=20)),\n",
    "    y = alt.Y(\"count()\", stack = None),\n",
    "    color = alt.Color(\"sector:N\", title = \"Sector\")\n",
    ").properties(\n",
    "    title = \"Crash Fatality Rate Histogram (Crashes with Fatality Rate < 1)\",\n",
    "    height = 500,\n",
    "    width = 750\n",
    ")"
   ]
  },
  {
   "cell_type": "code",
   "execution_count": 15,
   "metadata": {},
   "outputs": [
    {
     "data": {
      "text/html": "\n<div id=\"altair-viz-2f75f48ebc714e08b2809b55772fd60f\"></div>\n<script type=\"text/javascript\">\n  (function(spec, embedOpt){\n    let outputDiv = document.currentScript.previousElementSibling;\n    if (outputDiv.id !== \"altair-viz-2f75f48ebc714e08b2809b55772fd60f\") {\n      outputDiv = document.getElementById(\"altair-viz-2f75f48ebc714e08b2809b55772fd60f\");\n    }\n    const paths = {\n      \"vega\": \"https://cdn.jsdelivr.net/npm//vega@5?noext\",\n      \"vega-lib\": \"https://cdn.jsdelivr.net/npm//vega-lib?noext\",\n      \"vega-lite\": \"https://cdn.jsdelivr.net/npm//vega-lite@4.8.1?noext\",\n      \"vega-embed\": \"https://cdn.jsdelivr.net/npm//vega-embed@6?noext\",\n    };\n\n    function loadScript(lib) {\n      return new Promise(function(resolve, reject) {\n        var s = document.createElement('script');\n        s.src = paths[lib];\n        s.async = true;\n        s.onload = () => resolve(paths[lib]);\n        s.onerror = () => reject(`Error loading script: ${paths[lib]}`);\n        document.getElementsByTagName(\"head\")[0].appendChild(s);\n      });\n    }\n\n    function showError(err) {\n      outputDiv.innerHTML = `<div class=\"error\" style=\"color:red;\">${err}</div>`;\n      throw err;\n    }\n\n    function displayChart(vegaEmbed) {\n      vegaEmbed(outputDiv, spec, embedOpt)\n        .catch(err => showError(`Javascript Error: ${err.message}<br>This usually means there's a typo in your chart specification. See the javascript console for the full traceback.`));\n    }\n\n    if(typeof define === \"function\" && define.amd) {\n      requirejs.config({paths});\n      require([\"vega-embed\"], displayChart, err => showError(`Error loading script: ${err.message}`));\n    } else if (typeof vegaEmbed === \"function\") {\n      displayChart(vegaEmbed);\n    } else {\n      loadScript(\"vega\")\n        .then(() => loadScript(\"vega-lite\"))\n        .then(() => loadScript(\"vega-embed\"))\n        .catch(showError)\n        .then(() => displayChart(vegaEmbed));\n    }\n  })({\"config\": {\"view\": {\"continuousWidth\": 400, \"continuousHeight\": 300}, \"axisX\": {\"labelAngle\": -40}}, \"data\": {\"url\": \"http://localhost:17490/274c3627cf552504a497d49da4825f80.json\"}, \"mark\": \"bar\", \"encoding\": {\"x\": {\"type\": \"nominal\", \"field\": \"manufacturer\", \"sort\": \"-y\", \"title\": \"Manufacturer\"}, \"y\": {\"type\": \"quantitative\", \"field\": \"fatalities\", \"title\": \"Fatalities\"}}, \"height\": 500, \"title\": \"Fatalities by Aircraft Manufacturer\", \"width\": 750, \"$schema\": \"https://vega.github.io/schema/vega-lite/v4.8.1.json\"}, {\"mode\": \"vega-lite\"});\n</script>",
      "text/plain": "alt.Chart(...)"
     },
     "execution_count": 15,
     "metadata": {},
     "output_type": "execute_result"
    }
   ],
   "source": [
    "alt.Chart(df.groupby(\"manufacturer\").sum().nlargest(10, \"fatalities\").reset_index()).mark_bar().encode(\n",
    "    x = alt.X(\"manufacturer:N\", title = \"Manufacturer\", sort = \"-y\"),\n",
    "    y = alt.Y(\"fatalities:Q\", title = \"Fatalities\")\n",
    ").properties(\n",
    "    title = \"Fatalities by Aircraft Manufacturer\",\n",
    "    width = 750,\n",
    "    height = 500\n",
    ").configure_axisX(\n",
    "    labelAngle = -40\n",
    ")"
   ]
  },
  {
   "cell_type": "code",
   "execution_count": 16,
   "metadata": {},
   "outputs": [],
   "source": [
    "top_10_manf = set([\"Boeing\", \"Douglas\", \"Lockheed\", \"McDonell Douglas\", \"Antonov\", \"Tupolev\", \"Ilyushin\", \"Airbus\", \"De Havilland\", \"Fokker\"])\n",
    "top_10_manf_df = df[df[\"manufacturer\"].isin(top_10_manf)]"
   ]
  },
  {
   "cell_type": "code",
   "execution_count": 17,
   "metadata": {},
   "outputs": [
    {
     "data": {
      "text/html": "\n<div id=\"altair-viz-776cadd5c25945b9a5d4f43ea06324ca\"></div>\n<script type=\"text/javascript\">\n  (function(spec, embedOpt){\n    let outputDiv = document.currentScript.previousElementSibling;\n    if (outputDiv.id !== \"altair-viz-776cadd5c25945b9a5d4f43ea06324ca\") {\n      outputDiv = document.getElementById(\"altair-viz-776cadd5c25945b9a5d4f43ea06324ca\");\n    }\n    const paths = {\n      \"vega\": \"https://cdn.jsdelivr.net/npm//vega@5?noext\",\n      \"vega-lib\": \"https://cdn.jsdelivr.net/npm//vega-lib?noext\",\n      \"vega-lite\": \"https://cdn.jsdelivr.net/npm//vega-lite@4.8.1?noext\",\n      \"vega-embed\": \"https://cdn.jsdelivr.net/npm//vega-embed@6?noext\",\n    };\n\n    function loadScript(lib) {\n      return new Promise(function(resolve, reject) {\n        var s = document.createElement('script');\n        s.src = paths[lib];\n        s.async = true;\n        s.onload = () => resolve(paths[lib]);\n        s.onerror = () => reject(`Error loading script: ${paths[lib]}`);\n        document.getElementsByTagName(\"head\")[0].appendChild(s);\n      });\n    }\n\n    function showError(err) {\n      outputDiv.innerHTML = `<div class=\"error\" style=\"color:red;\">${err}</div>`;\n      throw err;\n    }\n\n    function displayChart(vegaEmbed) {\n      vegaEmbed(outputDiv, spec, embedOpt)\n        .catch(err => showError(`Javascript Error: ${err.message}<br>This usually means there's a typo in your chart specification. See the javascript console for the full traceback.`));\n    }\n\n    if(typeof define === \"function\" && define.amd) {\n      requirejs.config({paths});\n      require([\"vega-embed\"], displayChart, err => showError(`Error loading script: ${err.message}`));\n    } else if (typeof vegaEmbed === \"function\") {\n      displayChart(vegaEmbed);\n    } else {\n      loadScript(\"vega\")\n        .then(() => loadScript(\"vega-lite\"))\n        .then(() => loadScript(\"vega-embed\"))\n        .catch(showError)\n        .then(() => displayChart(vegaEmbed));\n    }\n  })({\"config\": {\"view\": {\"continuousWidth\": 400, \"continuousHeight\": 300}, \"axisX\": {\"labelAngle\": -40}}, \"data\": {\"url\": \"http://localhost:17490/ed06734be16c3c7d068ea5c01ee178dc.json\"}, \"mark\": \"bar\", \"encoding\": {\"x\": {\"type\": \"nominal\", \"field\": \"manufacturer\", \"sort\": \"-y\", \"title\": \"Manufacturer\"}, \"y\": {\"type\": \"quantitative\", \"axis\": {\"format\": \"%\"}, \"field\": \"fatality_pct\", \"title\": \"Crash Fatality Rate\"}}, \"height\": 500, \"title\": \"Mean Crash Fatality Rate by Aircraft Manufacturer\", \"width\": 750, \"$schema\": \"https://vega.github.io/schema/vega-lite/v4.8.1.json\"}, {\"mode\": \"vega-lite\"});\n</script>",
      "text/plain": "alt.Chart(...)"
     },
     "execution_count": 17,
     "metadata": {},
     "output_type": "execute_result"
    }
   ],
   "source": [
    "alt.Chart(top_10_manf_df.groupby(\"manufacturer\").mean().sort_values(by=\"fatality_pct\", ascending = False).dropna().reset_index()).mark_bar().encode(\n",
    "    x = alt.X(\"manufacturer:N\", title = \"Manufacturer\", sort = \"-y\"),\n",
    "    y = alt.Y(\"fatality_pct:Q\", title = \"Crash Fatality Rate\", axis = alt.Axis(format = \"%\"))\n",
    ").properties(\n",
    "    title = \"Mean Crash Fatality Rate by Aircraft Manufacturer\",\n",
    "    height = 500,\n",
    "    width = 750\n",
    ").configure_axisX(\n",
    "    labelAngle = -40\n",
    ")"
   ]
  }
 ],
 "metadata": {
  "kernelspec": {
   "display_name": "Python 3.8.5 64-bit ('aircraft_crashes': conda)",
   "metadata": {
    "interpreter": {
     "hash": "aecc875b81a1c64fa3e8cecfc3c7ac6323a5d8d12b7d5f29455ecf715fc40394"
    }
   },
   "name": "python3"
  },
  "language_info": {
   "codemirror_mode": {
    "name": "ipython",
    "version": 3
   },
   "file_extension": ".py",
   "mimetype": "text/x-python",
   "name": "python",
   "nbconvert_exporter": "python",
   "pygments_lexer": "ipython3",
   "version": "3.8.5"
  },
  "orig_nbformat": 2
 },
 "nbformat": 4,
 "nbformat_minor": 2
}